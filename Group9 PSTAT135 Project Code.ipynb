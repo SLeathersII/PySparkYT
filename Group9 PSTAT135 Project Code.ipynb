{
 "cells": [
  {
   "cell_type": "markdown",
   "metadata": {},
   "source": [
    "# 135 Group 9 project draft"
   ]
  },
  {
   "cell_type": "code",
   "execution_count": 1,
   "metadata": {},
   "outputs": [],
   "source": [
    "from pyspark.sql import SparkSession\n",
    "from pyspark.sql.functions import explode\n",
    "import pyspark.sql.functions as f\n",
    "import pyspark.sql.types as typ\n",
    "\n",
    "spark = SparkSession \\\n",
    "    .builder \\\n",
    "    .master(\"local\") \\\n",
    "    .appName(\"group 9 project\") \\\n",
    "    .config(\"spark.executor.memory\", '8g') \\\n",
    "    .config('spark.executor.cores', '4') \\\n",
    "    .config('spark.cores.max', '4') \\\n",
    "    .config(\"spark.driver.memory\",'8g') \\\n",
    "    .getOrCreate()\n",
    "\n",
    "sc = spark.sparkContext"
   ]
  },
  {
   "cell_type": "markdown",
   "metadata": {},
   "source": [
    "## Data Import and Processing"
   ]
  },
  {
   "cell_type": "markdown",
   "metadata": {},
   "source": [
    "### 1. Reading Video Categories"
   ]
  },
  {
   "cell_type": "code",
   "execution_count": 2,
   "metadata": {},
   "outputs": [
    {
     "name": "stdout",
     "output_type": "stream",
     "text": [
      "root\n",
      " |-- etag: string (nullable = true)\n",
      " |-- items: array (nullable = true)\n",
      " |    |-- element: struct (containsNull = true)\n",
      " |    |    |-- etag: string (nullable = true)\n",
      " |    |    |-- id: string (nullable = true)\n",
      " |    |    |-- kind: string (nullable = true)\n",
      " |    |    |-- snippet: struct (nullable = true)\n",
      " |    |    |    |-- assignable: boolean (nullable = true)\n",
      " |    |    |    |-- channelId: string (nullable = true)\n",
      " |    |    |    |-- title: string (nullable = true)\n",
      " |-- kind: string (nullable = true)\n",
      "\n"
     ]
    }
   ],
   "source": [
    "category_ca = spark.read.json('CA_category_id.json', multiLine=True)\n",
    "category_ca.printSchema()"
   ]
  },
  {
   "cell_type": "code",
   "execution_count": 3,
   "metadata": {},
   "outputs": [],
   "source": [
    "ca_category = category_ca.select('items.id', 'items.snippet.title')\\\n",
    "    .withColumn('temp', f.arrays_zip('id','title'))\\\n",
    "    .drop('id','title')\\\n",
    "    .withColumn('ex', explode('temp')).drop('temp')\\\n",
    "    .select('ex.id','ex.title')\\\n",
    "    .rdd\n",
    "\n",
    "# ca_category.collect()"
   ]
  },
  {
   "cell_type": "code",
   "execution_count": 4,
   "metadata": {},
   "outputs": [
    {
     "name": "stdout",
     "output_type": "stream",
     "text": [
      "root\n",
      " |-- etag: string (nullable = true)\n",
      " |-- items: array (nullable = true)\n",
      " |    |-- element: struct (containsNull = true)\n",
      " |    |    |-- etag: string (nullable = true)\n",
      " |    |    |-- id: string (nullable = true)\n",
      " |    |    |-- kind: string (nullable = true)\n",
      " |    |    |-- snippet: struct (nullable = true)\n",
      " |    |    |    |-- assignable: boolean (nullable = true)\n",
      " |    |    |    |-- channelId: string (nullable = true)\n",
      " |    |    |    |-- title: string (nullable = true)\n",
      " |-- kind: string (nullable = true)\n",
      "\n"
     ]
    }
   ],
   "source": [
    "category_us = spark.read.json('US_category_id.json', multiLine=True)\n",
    "category_us.printSchema()"
   ]
  },
  {
   "cell_type": "code",
   "execution_count": 5,
   "metadata": {},
   "outputs": [],
   "source": [
    "us_category = category_us.select('items.id', 'items.snippet.title')\\\n",
    "    .withColumn('temp', f.arrays_zip('id','title'))\\\n",
    "    .drop('id','title')\\\n",
    "    .withColumn('ex', explode('temp')).drop('temp')\\\n",
    "    .select('ex.id','ex.title')\\\n",
    "    .rdd\n",
    "\n",
    "# us_category.collect()"
   ]
  },
  {
   "cell_type": "markdown",
   "metadata": {},
   "source": [
    "#### Category difference check"
   ]
  },
  {
   "cell_type": "markdown",
   "metadata": {},
   "source": [
    "We are curious whether the IDs have the same corresponding category for both CA and US"
   ]
  },
  {
   "cell_type": "code",
   "execution_count": 6,
   "metadata": {},
   "outputs": [
    {
     "data": {
      "text/plain": [
       "[]"
      ]
     },
     "execution_count": 6,
     "metadata": {},
     "output_type": "execute_result"
    }
   ],
   "source": [
    "ca_category.subtract(us_category).collect()"
   ]
  },
  {
   "cell_type": "code",
   "execution_count": 6,
   "metadata": {},
   "outputs": [
    {
     "data": {
      "text/plain": [
       "[Row(id='29', title='Nonprofits & Activism')]"
      ]
     },
     "execution_count": 6,
     "metadata": {},
     "output_type": "execute_result"
    }
   ],
   "source": [
    "us_category.subtract(ca_category).collect()"
   ]
  },
  {
   "cell_type": "markdown",
   "metadata": {},
   "source": [
    "As the result, **us_category_rdd** includes all categories from **ca_category_rdd**. In this case, we use **us category rdd** as our reference of categories."
   ]
  },
  {
   "cell_type": "code",
   "execution_count": 7,
   "metadata": {},
   "outputs": [
    {
     "data": {
      "text/plain": [
       "[Row(id='1', title='Film & Animation'),\n",
       " Row(id='2', title='Autos & Vehicles'),\n",
       " Row(id='10', title='Music'),\n",
       " Row(id='15', title='Pets & Animals'),\n",
       " Row(id='17', title='Sports'),\n",
       " Row(id='18', title='Short Movies'),\n",
       " Row(id='19', title='Travel & Events'),\n",
       " Row(id='20', title='Gaming'),\n",
       " Row(id='21', title='Videoblogging'),\n",
       " Row(id='22', title='People & Blogs'),\n",
       " Row(id='23', title='Comedy'),\n",
       " Row(id='24', title='Entertainment'),\n",
       " Row(id='25', title='News & Politics'),\n",
       " Row(id='26', title='Howto & Style'),\n",
       " Row(id='27', title='Education'),\n",
       " Row(id='28', title='Science & Technology'),\n",
       " Row(id='29', title='Nonprofits & Activism'),\n",
       " Row(id='30', title='Movies'),\n",
       " Row(id='31', title='Anime/Animation'),\n",
       " Row(id='32', title='Action/Adventure'),\n",
       " Row(id='33', title='Classics'),\n",
       " Row(id='34', title='Comedy'),\n",
       " Row(id='35', title='Documentary'),\n",
       " Row(id='36', title='Drama'),\n",
       " Row(id='37', title='Family'),\n",
       " Row(id='38', title='Foreign'),\n",
       " Row(id='39', title='Horror'),\n",
       " Row(id='40', title='Sci-Fi/Fantasy'),\n",
       " Row(id='41', title='Thriller'),\n",
       " Row(id='42', title='Shorts'),\n",
       " Row(id='43', title='Shows'),\n",
       " Row(id='44', title='Trailers')]"
      ]
     },
     "execution_count": 7,
     "metadata": {},
     "output_type": "execute_result"
    }
   ],
   "source": [
    "cat_ref = us_category\n",
    "cat_ref.collect()"
   ]
  },
  {
   "cell_type": "code",
   "execution_count": 9,
   "metadata": {},
   "outputs": [
    {
     "name": "stdout",
     "output_type": "stream",
     "text": [
      "We have different types of categories = 32\n"
     ]
    }
   ],
   "source": [
    "print('We have different types of categories = {}'.format(cat_ref.count()))"
   ]
  },
  {
   "cell_type": "markdown",
   "metadata": {},
   "source": [
    "### 2. Reading Video Data"
   ]
  },
  {
   "cell_type": "markdown",
   "metadata": {},
   "source": [
    "We decide to use 'textFile' instead of 'read.csv' because we think rdd is more easier for us to origanize and filiter."
   ]
  },
  {
   "cell_type": "code",
   "execution_count": 8,
   "metadata": {},
   "outputs": [],
   "source": [
    "CA_video = sc.textFile('CAvideos.csv')\n",
    "header1 = CA_video.first()\n",
    "\n",
    "CA_data = CA_video.filter(lambda row: row != header1) \\\n",
    "                .map(lambda row: [str(elem) for elem in row.split(',')])\\\n",
    "                .map(lambda row: row[0:15])\\\n",
    "                .filter(lambda row: len(row) == 15)\n",
    "#remove description column, and save only completed observations\n",
    "\n",
    "#CA_data.take(5)\n",
    "#CA_data.count()"
   ]
  },
  {
   "cell_type": "code",
   "execution_count": 9,
   "metadata": {},
   "outputs": [],
   "source": [
    "US_video = sc.textFile('USvideos.csv')\n",
    "header2 = US_video.first()\n",
    "\n",
    "US_data = US_video.filter(lambda row: row != header2) \\\n",
    "                .map(lambda row: [str(elem) for elem in row.split(',')])\\\n",
    "                .map(lambda row: row[0:15])\\\n",
    "                .filter(lambda row: len(row) == 15)\n",
    "#remove description column, and save only the completed observations\n",
    "\n",
    "#US_data.take(5)\n",
    "#US_data.count()"
   ]
  },
  {
   "cell_type": "markdown",
   "metadata": {},
   "source": [
    "We're thinking to combine two datasets as a whole. But before that, we need to check whether the columns of two datasets are identical."
   ]
  },
  {
   "cell_type": "code",
   "execution_count": 10,
   "metadata": {},
   "outputs": [
    {
     "data": {
      "text/plain": [
       "True"
      ]
     },
     "execution_count": 10,
     "metadata": {},
     "output_type": "execute_result"
    }
   ],
   "source": [
    "# variables identical check\n",
    "\n",
    "header1 == header2\n"
   ]
  },
  {
   "cell_type": "markdown",
   "metadata": {},
   "source": [
    "In this case, we believe that it's okay to combine the datasets."
   ]
  },
  {
   "cell_type": "code",
   "execution_count": 11,
   "metadata": {},
   "outputs": [
    {
     "data": {
      "text/plain": [
       "True"
      ]
     },
     "execution_count": 11,
     "metadata": {},
     "output_type": "execute_result"
    }
   ],
   "source": [
    "#combining two datasets\n",
    "\n",
    "all_video = CA_data.union(US_data)\n",
    "\n",
    "CA_data.count()+US_data.count() == all_video.count()\n"
   ]
  },
  {
   "cell_type": "code",
   "execution_count": 12,
   "metadata": {},
   "outputs": [
    {
     "data": {
      "text/plain": [
       "81854"
      ]
     },
     "execution_count": 12,
     "metadata": {},
     "output_type": "execute_result"
    }
   ],
   "source": [
    "all_video.count()"
   ]
  },
  {
   "cell_type": "markdown",
   "metadata": {},
   "source": [
    "After combining the two datasets, we have a new datasets with 81,854 observations."
   ]
  },
  {
   "cell_type": "markdown",
   "metadata": {},
   "source": [
    "#### Create a schema to pass to a Spark DataFrame"
   ]
  },
  {
   "cell_type": "code",
   "execution_count": 13,
   "metadata": {},
   "outputs": [],
   "source": [
    "fields = [\n",
    "    *[\n",
    "        typ.StructField(h, typ.StringType(), True)\n",
    "        for h in header1.split(',')\n",
    "    ]\n",
    "]\n",
    "# fields"
   ]
  },
  {
   "cell_type": "code",
   "execution_count": 14,
   "metadata": {},
   "outputs": [
    {
     "data": {
      "text/plain": [
       "StructType(List(StructField(video_id,StringType,true),StructField(trending_date,StringType,true),StructField(title,StringType,true),StructField(channel_title,StringType,true),StructField(category_id,StringType,true),StructField(publish_time,StringType,true),StructField(tags,StringType,true),StructField(views,StringType,true),StructField(likes,StringType,true),StructField(dislikes,StringType,true),StructField(comment_count,StringType,true),StructField(thumbnail_link,StringType,true),StructField(comments_disabled,StringType,true),StructField(ratings_disabled,StringType,true),StructField(video_error_or_removed,StringType,true)))"
      ]
     },
     "execution_count": 14,
     "metadata": {},
     "output_type": "execute_result"
    }
   ],
   "source": [
    "schema = typ.StructType(fields[0:15])\n",
    "schema"
   ]
  },
  {
   "cell_type": "code",
   "execution_count": 15,
   "metadata": {},
   "outputs": [
    {
     "data": {
      "text/plain": [
       "DataFrame[video_id: string, trending_date: string, title: string, channel_title: string, category_id: string, publish_time: string, tags: string, views: string, likes: string, dislikes: string, comment_count: string, thumbnail_link: string, comments_disabled: string, ratings_disabled: string, video_error_or_removed: string]"
      ]
     },
     "execution_count": 15,
     "metadata": {},
     "output_type": "execute_result"
    }
   ],
   "source": [
    "video_frame = spark.createDataFrame(all_video, schema)\n",
    "video_frame.cache()"
   ]
  },
  {
   "cell_type": "code",
   "execution_count": 16,
   "metadata": {},
   "outputs": [
    {
     "data": {
      "text/plain": [
       "pyspark.sql.dataframe.DataFrame"
      ]
     },
     "execution_count": 16,
     "metadata": {},
     "output_type": "execute_result"
    }
   ],
   "source": [
    "type(video_frame)"
   ]
  },
  {
   "cell_type": "markdown",
   "metadata": {},
   "source": [
    "## Data Cleaning"
   ]
  },
  {
   "cell_type": "markdown",
   "metadata": {},
   "source": [
    "First, we need to check whetehr the data are read properly, or in other words, whether the data are placed in the correct column. For example, whether the data is 'True' or 'False' in the comments_disabled column."
   ]
  },
  {
   "cell_type": "code",
   "execution_count": 17,
   "metadata": {},
   "outputs": [
    {
     "data": {
      "text/plain": [
       "8941"
      ]
     },
     "execution_count": 17,
     "metadata": {},
     "output_type": "execute_result"
    }
   ],
   "source": [
    "# reading properly check\n",
    "temp_frame = video_frame.collect()\n",
    "incorrect_index =[]\n",
    "\n",
    "for i in range(video_frame.count()):\n",
    "    if temp_frame[i][12] != 'True' and temp_frame[i][12] != 'False':\n",
    "        incorrect_index.append(i)\n",
    "\n",
    "len(incorrect_index)"
   ]
  },
  {
   "cell_type": "markdown",
   "metadata": {},
   "source": [
    "We know that there are 8,941 of observations are read incorrectly, which is just a small portion in our whole dataset. Therefore, we decide to remove all of them."
   ]
  },
  {
   "cell_type": "code",
   "execution_count": 18,
   "metadata": {},
   "outputs": [
    {
     "data": {
      "text/plain": [
       "[Row(video_id='n1WpP7iowLc', trending_date='17.14.11', title='\"Eminem - Walk On Water (Audio) ft. Beyoncé\"', channel_title='\"EminemVEVO\"', category_id='10', publish_time='2017-11-10T17:00:03.000Z', tags='\"Eminem\"|\"Walk\"|\"On\"|\"Water\"|\"Aftermath/Shady/Interscope\"|\"Rap\"', views='17158579', likes='787425', dislikes='43420', comment_count='125882', thumbnail_link='https://i.ytimg.com/vi/n1WpP7iowLc/default.jpg', comments_disabled='False', ratings_disabled='False', video_error_or_removed='False'),\n",
       " Row(video_id='0dBIkQ4Mz1M', trending_date='17.14.11', title='\"PLUSH - Bad Unboxing Fan Mail\"', channel_title='\"iDubbbzTV\"', category_id='23', publish_time='2017-11-13T17:00:00.000Z', tags='\"plush\"|\"bad unboxing\"|\"unboxing\"|\"fan mail\"|\"idubbbztv\"|\"idubbbztv2\"|\"things\"|\"best\"|\"packages\"|\"plushies\"|\"chontent chop\"', views='1014651', likes='127794', dislikes='1688', comment_count='13030', thumbnail_link='https://i.ytimg.com/vi/0dBIkQ4Mz1M/default.jpg', comments_disabled='False', ratings_disabled='False', video_error_or_removed='False')]"
      ]
     },
     "execution_count": 18,
     "metadata": {},
     "output_type": "execute_result"
    }
   ],
   "source": [
    "# remove incorrectly reading data\n",
    "\n",
    "temp_adjusted =[]\n",
    "\n",
    "for i in range(video_frame.count()):\n",
    "    if temp_frame[i][12] == 'True' or temp_frame[i][12] == 'False':\n",
    "        temp_adjusted.append(temp_frame[i])\n",
    "\n",
    "video_rdd = sc.parallelize(temp_adjusted)\n",
    "# type(video_rdd)\n",
    "video_rdd.take(2)"
   ]
  },
  {
   "cell_type": "code",
   "execution_count": 19,
   "metadata": {},
   "outputs": [
    {
     "data": {
      "text/plain": [
       "True"
      ]
     },
     "execution_count": 19,
     "metadata": {},
     "output_type": "execute_result"
    }
   ],
   "source": [
    "video_frame.count() - len(incorrect_index) == video_rdd.count()"
   ]
  },
  {
   "cell_type": "code",
   "execution_count": 20,
   "metadata": {},
   "outputs": [
    {
     "data": {
      "text/plain": [
       "72913"
      ]
     },
     "execution_count": 20,
     "metadata": {},
     "output_type": "execute_result"
    }
   ],
   "source": [
    "video_rdd.count()"
   ]
  },
  {
   "cell_type": "markdown",
   "metadata": {},
   "source": [
    "After removing the observations that were read incorrectly, our dataset contains 72913 observations. "
   ]
  },
  {
   "cell_type": "code",
   "execution_count": 21,
   "metadata": {},
   "outputs": [
    {
     "data": {
      "text/plain": [
       "ParallelCollectionRDD[66] at readRDDFromFile at PythonRDD.scala:262"
      ]
     },
     "execution_count": 21,
     "metadata": {},
     "output_type": "execute_result"
    }
   ],
   "source": [
    "# final categories data, we use:\n",
    "cat_ref\n",
    "\n",
    "# final video data, we use:\n",
    "video_rdd"
   ]
  },
  {
   "cell_type": "markdown",
   "metadata": {},
   "source": [
    "## Exploratory Data Analysis"
   ]
  },
  {
   "cell_type": "markdown",
   "metadata": {},
   "source": [
    "### 1. Describtion of numerical columns"
   ]
  },
  {
   "cell_type": "code",
   "execution_count": 22,
   "metadata": {},
   "outputs": [
    {
     "name": "stdout",
     "output_type": "stream",
     "text": [
      "+-------+------------------+------------------+-----------------+------------------+\n",
      "|summary|             views|             likes|         dislikes|     comment_count|\n",
      "+-------+------------------+------------------+-----------------+------------------+\n",
      "|  count|             72913|             72913|            72913|             72913|\n",
      "|   mean|1723750.5126109198|57707.640557925195|2883.798883601004| 6978.537709324812|\n",
      "| stddev| 5730979.903881168| 191982.5930008822|25828.51052881144|32139.279911420137|\n",
      "|    min|              1000|                 0|                0|                 0|\n",
      "|    25%|          185267.0|            3638.0|            143.0|             533.0|\n",
      "|    50%|          500224.0|           13346.0|            442.0|            1586.0|\n",
      "|    75%|         1342583.0|           40973.0|           1399.0|            4644.0|\n",
      "|    max|             99999|             99990|             9994|             99980|\n",
      "+-------+------------------+------------------+-----------------+------------------+\n",
      "\n"
     ]
    }
   ],
   "source": [
    "num_feature = ['views','likes','dislikes','comment_count']\n",
    "\n",
    "video_rdd.toDF().select(num_feature).summary().show()"
   ]
  },
  {
   "cell_type": "markdown",
   "metadata": {},
   "source": [
    "From the table, we can tell that:\n",
    "1. the average number of views of a trending video is *1,723,750*, and the median is about *500,224*. Since mean is much greater than median, we can tell the distribution of views is left-skwed distribution;\n",
    "2. the average number of likes of a trending video is *57,707*, but the the average number of dislikes of a trending video is only *2,883*;\n",
    "3. the average number of comment is *6,978*."
   ]
  },
  {
   "cell_type": "markdown",
   "metadata": {},
   "source": [
    "##### Check how many videos have 1 million views or less"
   ]
  },
  {
   "cell_type": "code",
   "execution_count": 25,
   "metadata": {},
   "outputs": [
    {
     "data": {
      "text/plain": [
       "68.04959335097993"
      ]
     },
     "execution_count": 25,
     "metadata": {},
     "output_type": "execute_result"
    }
   ],
   "source": [
    "(video_rdd.toDF().select('views').filter(f.col('views') < 1e6).count()\\\n",
    "                     / video_rdd.toDF().select('views').count())*100\n"
   ]
  },
  {
   "cell_type": "markdown",
   "metadata": {},
   "source": [
    "##### Check how many videos have 1.5 million views or less"
   ]
  },
  {
   "cell_type": "code",
   "execution_count": 26,
   "metadata": {},
   "outputs": [
    {
     "data": {
      "text/plain": [
       "77.30171574342025"
      ]
     },
     "execution_count": 26,
     "metadata": {},
     "output_type": "execute_result"
    }
   ],
   "source": [
    "(video_rdd.toDF().select('views').filter(f.col('views') < 1.5e6).count()\\\n",
    "                     / video_rdd.toDF().select('views').count())*100"
   ]
  },
  {
   "cell_type": "markdown",
   "metadata": {},
   "source": [
    "##### Check how many videos have 5 million views or less"
   ]
  },
  {
   "cell_type": "code",
   "execution_count": 27,
   "metadata": {},
   "outputs": [
    {
     "data": {
      "text/plain": [
       "93.76517219151592"
      ]
     },
     "execution_count": 27,
     "metadata": {},
     "output_type": "execute_result"
    }
   ],
   "source": [
    "(video_rdd.toDF().select('views').filter(f.col('views') < 5e6).count()\\\n",
    "                     / video_rdd.toDF().select('views').count())*100"
   ]
  },
  {
   "cell_type": "markdown",
   "metadata": {},
   "source": [
    "Therefore, there are:\n",
    "1. about 68% videos have 1 million views or less,\n",
    "2. about 77% videos have 1.5 million views or less, and\n",
    "3. about 94% videos have 5 million views or less.\n",
    "\n",
    "Which means:\n",
    "1. about 32% videos have 1 million views or more,\n",
    "2. about 23% videos have 1.5 million views or more, and\n",
    "3. about 6% videos have 5 million views or more."
   ]
  },
  {
   "cell_type": "markdown",
   "metadata": {},
   "source": [
    "### 2. Describtion of non-numerical columns"
   ]
  },
  {
   "cell_type": "code",
   "execution_count": 28,
   "metadata": {},
   "outputs": [
    {
     "name": "stdout",
     "output_type": "stream",
     "text": [
      "+-------+-----------+-------------+--------------------+--------------+--------------------+--------------------+--------------------+\n",
      "|summary|   video_id|trending_date|               title| channel_title|        publish_time|                tags|      thumbnail_link|\n",
      "+-------+-----------+-------------+--------------------+--------------+--------------------+--------------------+--------------------+\n",
      "|  count|      72913|        72913|               72913|         72913|               72913|               72913|               72913|\n",
      "|   mean|       null|         null|                null|          null|                null|                null|                null|\n",
      "| stddev|       null|         null|                null|          null|                null|                null|                null|\n",
      "|    min|--45ws7CEN0|     17.01.12|\"!! THIS VIDEO IS...|\"#AndresSTyle\"|2006-07-23T08:24:...|\"#2018impact\"|\"#y...|https://i.ytimg.c...|\n",
      "|    max|zzjNCiCqiOs|     18.31.05|\"🚨Active Shooter...|    \"활력소TV\"|2018-06-14T01:31:...|              [none]|https://i.ytimg.c...|\n",
      "+-------+-----------+-------------+--------------------+--------------+--------------------+--------------------+--------------------+\n",
      "\n"
     ]
    }
   ],
   "source": [
    "non_num_feature = ['video_id','trending_date','title','channel_title','publish_time','tags','thumbnail_link']\n",
    "\n",
    "video_rdd.toDF().select(non_num_feature).describe().show()\n"
   ]
  },
  {
   "cell_type": "markdown",
   "metadata": {},
   "source": [
    "#### Unique check"
   ]
  },
  {
   "cell_type": "markdown",
   "metadata": {},
   "source": [
    "Checking the uniqueness, which we're interested in the variables of **video_id, trending_date,** and **title**."
   ]
  },
  {
   "cell_type": "code",
   "execution_count": 29,
   "metadata": {},
   "outputs": [
    {
     "name": "stdout",
     "output_type": "stream",
     "text": [
      "video_id uniqueness:\n",
      "24685\n",
      "trending_date uniqueness:\n",
      "205\n",
      "title uniqueness:\n",
      "24895\n"
     ]
    }
   ],
   "source": [
    "print('video_id uniqueness:')\n",
    "print(video_rdd.toDF().select('video_id').distinct().count())\n",
    "print('trending_date uniqueness:')\n",
    "print(video_rdd.toDF().select('trending_date').distinct().count())\n",
    "print('title uniqueness:')\n",
    "print(video_rdd.toDF().select('title').distinct().count())"
   ]
  },
  {
   "cell_type": "markdown",
   "metadata": {},
   "source": [
    "From the table and the uniqueness above, we can tell that:\n",
    "1. the trending date of videos are collected from 12.01.2017 to 05.31.2018, which are **205 days of trending**;\n",
    "2. there are 24,685 different videos on the trending list, and the total count of 72,913 is saying that some of the videos on the trending list **more than one day**;\n",
    "3. the uniqueness of title is greater than the uniqueness of videos id. The most likely reason is that some of the videos have different titles (in other words, the titles of the videos are changed while the videos are on the trending list)."
   ]
  },
  {
   "cell_type": "markdown",
   "metadata": {},
   "source": [
    "##### Different title check"
   ]
  },
  {
   "cell_type": "code",
   "execution_count": 30,
   "metadata": {},
   "outputs": [
    {
     "name": "stdout",
     "output_type": "stream",
     "text": [
      "+-----------+-----+\n",
      "|   video_id|count|\n",
      "+-----------+-----+\n",
      "|8WbxbqwdWog|    3|\n",
      "|QA2fKoT6Sig|    2|\n",
      "|4oYYVrEFWE8|    2|\n",
      "|fuoCUfdqZFI|    2|\n",
      "|P_If9xMyl10|    2|\n",
      "|xLtYmhj-0Kg|    2|\n",
      "|OXVm3fhYsEo|    2|\n",
      "|0ufNmUyf2co|    2|\n",
      "|ogfYd705cRs|    2|\n",
      "|xVU8nEIsapY|    2|\n",
      "|JpR_JaVguBk|    2|\n",
      "|5NaAwSpswJE|    2|\n",
      "|8C8pRDetZr8|    2|\n",
      "|3lgcBZdMZxM|    2|\n",
      "|D2mxKEa2xmA|    2|\n",
      "|m7Ege1M5Pag|    2|\n",
      "|e-0YnJlFPeE|    2|\n",
      "|iLZwZX39FXU|    2|\n",
      "|gjQ1Brofle8|    2|\n",
      "|R9OHn5ZF4Uo|    2|\n",
      "+-----------+-----+\n",
      "only showing top 20 rows\n",
      "\n"
     ]
    }
   ],
   "source": [
    "uniqueness1 = video_rdd.toDF().select('video_id','title').groupby(['video_id','title']).count()\\\n",
    "                .where('count > 1').sort('count', ascending=False)\n",
    "uniqueness1.select('video_id').groupby('video_id').count().where('count > 1')\\\n",
    "                .sort('count', ascending=False).show()"
   ]
  },
  {
   "cell_type": "markdown",
   "metadata": {},
   "source": [
    "The table shows it is true that some videos have different titles. Let's show an example below."
   ]
  },
  {
   "cell_type": "code",
   "execution_count": 31,
   "metadata": {},
   "outputs": [
    {
     "name": "stdout",
     "output_type": "stream",
     "text": [
      "+-----------+------------------------------------------------------------------------------------+\n",
      "|video_id   |title                                                                               |\n",
      "+-----------+------------------------------------------------------------------------------------+\n",
      "|8WbxbqwdWog|\"Camera Goes on Japanese Sushi Conveyor Belt  - TROUBLE!!!\"                         |\n",
      "|8WbxbqwdWog|\"Camera Goes on Japanese Sushi Conveyor Belt  - TROUBLE!!!\"                         |\n",
      "|8WbxbqwdWog|\"Camera Goes on Japanese Sushi Conveyor Belt - TROUBLE!!!\"                          |\n",
      "|8WbxbqwdWog|\"Camera Goes on Japanese Sushi Conveyor Belt - TROUBLE!!!\"                          |\n",
      "|8WbxbqwdWog|\"Camera Goes on Japanese Sushi Conveyor Belt Shows Beautiful Slice of Japanese Life\"|\n",
      "|8WbxbqwdWog|\"Camera Goes on Japanese Sushi Conveyor Belt Shows Beautiful Slice of Japanese Life\"|\n",
      "+-----------+------------------------------------------------------------------------------------+\n",
      "\n"
     ]
    }
   ],
   "source": [
    "different_title = video_rdd.toDF().select('video_id','title')\\\n",
    "                            .filter(f.col('video_id') == '8WbxbqwdWog')\n",
    "different_title.show(truncate = False)"
   ]
  },
  {
   "cell_type": "markdown",
   "metadata": {},
   "source": [
    "So we can see the video *8WbxbqwdWog* uses different titles."
   ]
  },
  {
   "cell_type": "markdown",
   "metadata": {},
   "source": [
    "### Counting the frequency of video by categories"
   ]
  },
  {
   "cell_type": "code",
   "execution_count": 32,
   "metadata": {},
   "outputs": [
    {
     "name": "stdout",
     "output_type": "stream",
     "text": [
      "+-----------+-----+\n",
      "|category_id|count|\n",
      "+-----------+-----+\n",
      "|         24|21186|\n",
      "|         10| 8904|\n",
      "|         23| 6825|\n",
      "|         22| 6500|\n",
      "|         26| 5895|\n",
      "|         25| 5478|\n",
      "|          1| 3913|\n",
      "|         17| 3849|\n",
      "|         28| 3279|\n",
      "|         27| 2481|\n",
      "|         20| 2032|\n",
      "|         15| 1150|\n",
      "|         19|  633|\n",
      "|          2|  587|\n",
      "|         29|  121|\n",
      "|         43|   74|\n",
      "|         30|    6|\n",
      "+-----------+-----+\n",
      "\n"
     ]
    }
   ],
   "source": [
    "video_rdd.toDF().groupby('category_id').count().sort('count', ascending=False).show()"
   ]
  },
  {
   "cell_type": "markdown",
   "metadata": {},
   "source": [
    "From the table, we know that the top three categories are 24, 10, and 23, which according to the category reference, we know they're **Entertainment, Music,** and **Comedy**."
   ]
  },
  {
   "cell_type": "markdown",
   "metadata": {},
   "source": [
    "###### exporting dataset for graphing purpose."
   ]
  },
  {
   "cell_type": "code",
   "execution_count": 33,
   "metadata": {},
   "outputs": [],
   "source": [
    "#video_rdd.toDF().write.format('com.databricks.spark.csv').save('VIDEOcsv.csv')"
   ]
  },
  {
   "cell_type": "markdown",
   "metadata": {},
   "source": [
    "------------------"
   ]
  },
  {
   "cell_type": "markdown",
   "metadata": {},
   "source": [
    "According to our research question, we're only interested in **Entertainment and Comedy**."
   ]
  },
  {
   "cell_type": "code",
   "execution_count": 23,
   "metadata": {},
   "outputs": [
    {
     "data": {
      "text/plain": [
       "28011"
      ]
     },
     "execution_count": 23,
     "metadata": {},
     "output_type": "execute_result"
    }
   ],
   "source": [
    "# subset data for Comedy and Entertainment videos\n",
    "\n",
    "video_rdd2 = video_rdd.filter(lambda row: row[4] == '23' or row[4] == '24')\n",
    "video_rdd2.count()\n",
    "#video_rdd2.take(5)"
   ]
  },
  {
   "cell_type": "markdown",
   "metadata": {},
   "source": [
    "##### tags organization"
   ]
  },
  {
   "cell_type": "code",
   "execution_count": 24,
   "metadata": {},
   "outputs": [
    {
     "data": {
      "text/plain": [
       "[<Row(['plush', 'bad unboxing', 'unboxing', 'fan mail', 'idubbbztv', 'idubbbztv2', 'things', 'best', 'packages', 'plushies', 'chontent chop'])>,\n",
       " <Row(['ryan', 'higa', 'higatv', 'nigahiga', 'i dare you', 'idy', 'rhpc', 'dares', 'no truth', 'comments', 'comedy', 'funny', 'stupid', 'fail'])>,\n",
       " <Row(['Funny Moments', 'Montage video games', 'gaming', 'Vanoss', 'VanossGaming', 'Gameplay', 'Secret', 'Puncake', 'Parody', 'Comedy', 'Remix', 'Epic', 'Trolling', 'Xbox One', 'MultiplayerPS4', 'Funtage', 'superhero school', 'vanoss superhero school', 'superhero', 'scool', 'school', 'super hero', 'vanoss gaming school', 'doc', 'documentary'])>]"
      ]
     },
     "execution_count": 24,
     "metadata": {},
     "output_type": "execute_result"
    }
   ],
   "source": [
    "from pyspark.sql import Row\n",
    "tags = video_rdd2.map(lambda row: row[6]).map(lambda row: row.split('|'))\\\n",
    "                .map(lambda row: [row[i].replace('\"','') for i in range(len(row))])\\\n",
    "                .map(lambda x: Row(x))\n",
    "tags.take(3)"
   ]
  },
  {
   "cell_type": "code",
   "execution_count": 25,
   "metadata": {},
   "outputs": [],
   "source": [
    "# Convert rdd to df\n",
    "df_subset = video_rdd2.toDF()"
   ]
  },
  {
   "cell_type": "code",
   "execution_count": 26,
   "metadata": {},
   "outputs": [
    {
     "name": "stdout",
     "output_type": "stream",
     "text": [
      "+--------------------+--------------------+\n",
      "|                tags|               tags2|\n",
      "+--------------------+--------------------+\n",
      "|plush|bad unboxin...|[plush, bad unbox...|\n",
      "|ryan|higa|higatv|...|[ryan, higa, higa...|\n",
      "|Funny Moments|Mon...|[funny moments, m...|\n",
      "+--------------------+--------------------+\n",
      "only showing top 3 rows\n",
      "\n"
     ]
    }
   ],
   "source": [
    "# Use RegexTokenizer to help turn tags into features\n",
    "from pyspark.ml.feature import RegexTokenizer\n",
    "import pyspark.sql.functions as f\n",
    "\n",
    "rt = RegexTokenizer(inputCol = 'tags', outputCol = 'tags2', pattern = '\\|') # split tags by |\n",
    "\n",
    "df_subset = df_subset.withColumn(\"tags\", f.translate(f.col(\"tags\"), '\"', \"\").alias('tags')) # Remove quoatations around tags\n",
    "\n",
    "df_subset = rt.transform(df_subset)\n",
    "\n",
    "\n",
    "df_subset.select('tags','tags2').show(3) # thus tags 2 is tokenized and ready to be used as features\n",
    "\n"
   ]
  },
  {
   "cell_type": "code",
   "execution_count": 27,
   "metadata": {},
   "outputs": [
    {
     "data": {
      "text/plain": [
       "10223"
      ]
     },
     "execution_count": 27,
     "metadata": {},
     "output_type": "execute_result"
    }
   ],
   "source": [
    "# unique videos for training our model in comedy & entertainment\n",
    "df_subset.select('video_id').distinct().count() "
   ]
  },
  {
   "cell_type": "markdown",
   "metadata": {},
   "source": [
    "## Engineered Features"
   ]
  },
  {
   "cell_type": "markdown",
   "metadata": {},
   "source": [
    "### Time of day posted"
   ]
  },
  {
   "cell_type": "code",
   "execution_count": 28,
   "metadata": {},
   "outputs": [],
   "source": [
    "from pyspark.sql.functions import when, substring\n",
    "from pyspark.sql.types import IntegerType\n",
    "\n",
    "# Set the publish_time to Morning(0) (0400-1000), noon(1) (1100 - 1800), evening(1900-0459)(2)\n",
    "# Note: given we have sliced only by HOUR, each 00 implies 00-59 above\n",
    "# substring(x, start pos, # characters)\n",
    "df_subset2 = df_subset.withColumn('hour', substring(df_subset.publish_time, 12, 2)) # slice time: Hour\n",
    "df_subset3 = df_subset2.withColumn('hour', df_subset2.hour.cast(IntegerType())) # cast string time to int\n",
    "\n",
    "# assign time variables\n",
    "# create 'day_segment' to model morning (0), afternoon(1), Evening(2)\n",
    "df_subset4 = df_subset3.withColumn('day_segment', \n",
    "                   when((df_subset3.hour >= 4) & (df_subset3.hour <= 10), 0)\n",
    "                   .when((df_subset3.hour >= 11) & (df_subset3.hour <= 18), 1)\n",
    "                   .when((df_subset3.hour > 18) | (df_subset3.hour < 4), 2))\n",
    "\n",
    "# expand factors with oneHotEncoder Note: Previous version used integer values 0 1 2, \n",
    "# Note: however given the low number of factors OneHotEncoder will work better\n",
    "from pyspark.ml.feature import OneHotEncoder\n",
    "\n",
    "encoder = OneHotEncoder(inputCol=\"day_segment\", outputCol=\"day_segment2\")\n",
    "df_subset4 = encoder.fit(df_subset4).transform(df_subset4)\n"
   ]
  },
  {
   "cell_type": "code",
   "execution_count": 29,
   "metadata": {},
   "outputs": [
    {
     "name": "stdout",
     "output_type": "stream",
     "text": [
      "+-----------+-------------+\n",
      "|day_segment| day_segment2|\n",
      "+-----------+-------------+\n",
      "|          0|(2,[0],[1.0])|\n",
      "|          1|(2,[1],[1.0])|\n",
      "|          2|    (2,[],[])|\n",
      "+-----------+-------------+\n",
      "\n"
     ]
    }
   ],
   "source": [
    "df_subset4.select('day_segment', 'day_segment2').distinct().show() # all values assigned properly/ no unkown/missing"
   ]
  },
  {
   "cell_type": "markdown",
   "metadata": {},
   "source": [
    "### NUMBER OF DAYS TRENDING: Response variable"
   ]
  },
  {
   "cell_type": "code",
   "execution_count": 30,
   "metadata": {},
   "outputs": [],
   "source": [
    "# NOTE: CA and US 'days' are unique and if a video trends in both countries on the same day, that is considered 2 days\n",
    "# this adds a bias or weight to things commercial in both countries as we are looking to penetrate the Canadian market as well\n",
    "import pyspark.sql.functions as f\n",
    "from pyspark.sql import Window\n",
    "# Create # of days trending variable\n",
    "w = Window.partitionBy('video_id')\n",
    "df5 = df_subset4.withColumn('days_trending', f.count('video_id').over(w))"
   ]
  },
  {
   "cell_type": "code",
   "execution_count": 31,
   "metadata": {},
   "outputs": [
    {
     "name": "stdout",
     "output_type": "stream",
     "text": [
      "+-----------+-------------+\n",
      "|   video_id|days_trending|\n",
      "+-----------+-------------+\n",
      "|-H90GPnH1q8|            4|\n",
      "|-H90GPnH1q8|            4|\n",
      "|-H90GPnH1q8|            4|\n",
      "|-H90GPnH1q8|            4|\n",
      "|4V-yu1qYDnE|            2|\n",
      "|4V-yu1qYDnE|            2|\n",
      "|6vi6yQtntdE|            2|\n",
      "|6vi6yQtntdE|            2|\n",
      "|7fKNp-oc5dM|            1|\n",
      "|8XL4oDhwj8M|            1|\n",
      "|8cj5pmZzF3M|            3|\n",
      "|8cj5pmZzF3M|            3|\n",
      "|8cj5pmZzF3M|            3|\n",
      "|9XaUPRA6ZAI|            1|\n",
      "|9_LIP7qguYw|            5|\n",
      "|9_LIP7qguYw|            5|\n",
      "|9_LIP7qguYw|            5|\n",
      "|9_LIP7qguYw|            5|\n",
      "|9_LIP7qguYw|            5|\n",
      "|9mpwlkc2a5s|            1|\n",
      "|A4mzB2PTo-E|            4|\n",
      "|A4mzB2PTo-E|            4|\n",
      "|A4mzB2PTo-E|            4|\n",
      "|A4mzB2PTo-E|            4|\n",
      "|AQ3dPvVPXyc|            1|\n",
      "+-----------+-------------+\n",
      "only showing top 25 rows\n",
      "\n"
     ]
    }
   ],
   "source": [
    "df5.select('video_id', 'days_trending').show(25)"
   ]
  },
  {
   "cell_type": "code",
   "execution_count": 32,
   "metadata": {},
   "outputs": [
    {
     "name": "stdout",
     "output_type": "stream",
     "text": [
      "+-----------+-------------+\n",
      "|   video_id|days_trending|\n",
      "+-----------+-------------+\n",
      "|-H90GPnH1q8|            4|\n",
      "|4V-yu1qYDnE|            2|\n",
      "|6vi6yQtntdE|            2|\n",
      "|7fKNp-oc5dM|            1|\n",
      "|8XL4oDhwj8M|            1|\n",
      "|8cj5pmZzF3M|            3|\n",
      "|9XaUPRA6ZAI|            1|\n",
      "|9_LIP7qguYw|            5|\n",
      "|9mpwlkc2a5s|            1|\n",
      "|A4mzB2PTo-E|            4|\n",
      "+-----------+-------------+\n",
      "only showing top 10 rows\n",
      "\n"
     ]
    }
   ],
   "source": [
    "# remove duplicate rows as our model is not interested in the day over day changes to likes, views, comments etc\n",
    "# Note: something trending for multiple days is likely not affected by the day segment posted, however could still be significant in the initial trending process\n",
    "df6 = df5.dropDuplicates(['video_id'])\n",
    "df6.select('video_id','days_trending').show(10)"
   ]
  },
  {
   "cell_type": "code",
   "execution_count": 33,
   "metadata": {},
   "outputs": [
    {
     "name": "stdout",
     "output_type": "stream",
     "text": [
      "+-----------+-------------+-----------+--------------------+--------------------+--------------------+-------------+\n",
      "|   video_id|days_trending|day_segment|                tags|               tags2|               title| day_segment2|\n",
      "+-----------+-------------+-----------+--------------------+--------------------+--------------------+-------------+\n",
      "|-H90GPnH1q8|            4|          2|The Walking Dead ...|[the walking dead...|\"The Walking Dead...|    (2,[],[])|\n",
      "|4V-yu1qYDnE|            2|          2|Alonzo Lerone|Alo...|[alonzo lerone, a...|\"I Tried Making I...|    (2,[],[])|\n",
      "|6vi6yQtntdE|            2|          2|Late|Night|with|S...|[late, night, wit...|\"Trump Supporters...|    (2,[],[])|\n",
      "|7fKNp-oc5dM|            1|          1|new|eritrean|dram...|[new, eritrean, d...|\"New Eritrean Dra...|(2,[1],[1.0])|\n",
      "|8XL4oDhwj8M|            1|          1|makeup puns|make ...|[makeup puns, mak...|\"THE BEST MAKEUP ...|(2,[1],[1.0])|\n",
      "|8cj5pmZzF3M|            3|          1|the|disaster|arti...|[the, disaster, a...|\"The Disaster Art...|(2,[1],[1.0])|\n",
      "|9XaUPRA6ZAI|            1|          0|jimmy|kimmel|live...|[jimmy, kimmel, l...|\"Jimmy Kimmel Pra...|(2,[0],[1.0])|\n",
      "|9_LIP7qguYw|            5|          1|INSIDER|this is a...|[insider, this is...|\"Hidden Meanings ...|(2,[1],[1.0])|\n",
      "|9mpwlkc2a5s|            1|          2|jimmy|jimmy kimme...|[jimmy, jimmy kim...|\"Jimmy Kimmel Res...|    (2,[],[])|\n",
      "|A4mzB2PTo-E|            4|          2|rice|gum|RiceGum|...|[rice, gum, riceg...|\"RiceGum Super Bo...|    (2,[],[])|\n",
      "+-----------+-------------+-----------+--------------------+--------------------+--------------------+-------------+\n",
      "only showing top 10 rows\n",
      "\n"
     ]
    }
   ],
   "source": [
    "# create subset with variables we are interested in\n",
    "df7 = df6.select('video_id','days_trending','day_segment','tags', 'tags2', 'title','day_segment2')\n",
    "df7.show(10)"
   ]
  },
  {
   "cell_type": "markdown",
   "metadata": {},
   "source": [
    "### df7 has all relevant data prior to NLP process \n",
    "\n",
    "Note: df11 has words/ words filtered with just \" removed from titles"
   ]
  },
  {
   "cell_type": "markdown",
   "metadata": {},
   "source": [
    "## Exploratory Data Analysis on Subset"
   ]
  },
  {
   "cell_type": "markdown",
   "metadata": {},
   "source": [
    "### 1. Describtion of Response Variable"
   ]
  },
  {
   "cell_type": "code",
   "execution_count": 34,
   "metadata": {},
   "outputs": [
    {
     "name": "stdout",
     "output_type": "stream",
     "text": [
      "+-------+-----------------+\n",
      "|summary|    days_trending|\n",
      "+-------+-----------------+\n",
      "|  count|            10223|\n",
      "|   mean|2.739998043627115|\n",
      "| stddev|3.327651573867273|\n",
      "|    min|                1|\n",
      "|    25%|                1|\n",
      "|    50%|                2|\n",
      "|    75%|                3|\n",
      "|    max|               34|\n",
      "+-------+-----------------+\n",
      "\n"
     ]
    }
   ],
   "source": [
    "df7.select('days_trending').summary().show()"
   ]
  },
  {
   "cell_type": "markdown",
   "metadata": {},
   "source": [
    "### 2. Describtion of Categorical Variables"
   ]
  },
  {
   "cell_type": "markdown",
   "metadata": {},
   "source": [
    "#### 1. variable day_segment"
   ]
  },
  {
   "cell_type": "code",
   "execution_count": 35,
   "metadata": {},
   "outputs": [
    {
     "name": "stdout",
     "output_type": "stream",
     "text": [
      "+-----------+-----+\n",
      "|day_segment|count|\n",
      "+-----------+-----+\n",
      "|          1| 4907|\n",
      "|          2| 4182|\n",
      "|          0| 1134|\n",
      "+-----------+-----+\n",
      "\n"
     ]
    }
   ],
   "source": [
    "df7.groupBy('day_segment').count().show()"
   ]
  },
  {
   "cell_type": "markdown",
   "metadata": {},
   "source": [
    "#### 2. variable title"
   ]
  },
  {
   "cell_type": "code",
   "execution_count": 36,
   "metadata": {},
   "outputs": [],
   "source": [
    "from pyspark.sql.functions import split\n",
    "df_EDA = df7.withColumn(\"title\", f.translate(f.col(\"title\"), '\"', \"\").alias('title'))"
   ]
  },
  {
   "cell_type": "code",
   "execution_count": 37,
   "metadata": {},
   "outputs": [],
   "source": [
    "title_list = df_EDA.select(\"title\").rdd.flatMap(lambda x: x) "
   ]
  },
  {
   "cell_type": "code",
   "execution_count": 38,
   "metadata": {},
   "outputs": [
    {
     "data": {
      "text/plain": [
       "[\"The Walking Dead 8x08 Ending Scene Carl was bitten Season 8 Episode 8 HD How It's Gotta Be\",\n",
       " 'I Tried Making INVISIBLE Potato Chips | Tutorial FAIL | Alonzo Lerone',\n",
       " 'Trump Supporters Think He Deserves the Nobel Peace Prize: A Closer Look',\n",
       " 'New Eritrean Drama 2018 Nabrana Part 25',\n",
       " 'THE BEST MAKEUP PUNS!']"
      ]
     },
     "execution_count": 38,
     "metadata": {},
     "output_type": "execute_result"
    }
   ],
   "source": [
    "title_list.take(5)"
   ]
  },
  {
   "cell_type": "code",
   "execution_count": 39,
   "metadata": {},
   "outputs": [],
   "source": [
    "title_words = title_list.flatMap(lambda x: x.split())"
   ]
  },
  {
   "cell_type": "code",
   "execution_count": 40,
   "metadata": {},
   "outputs": [
    {
     "data": {
      "text/plain": [
       "['The',\n",
       " 'Walking',\n",
       " 'Dead',\n",
       " '8x08',\n",
       " 'Ending',\n",
       " 'Scene',\n",
       " 'Carl',\n",
       " 'was',\n",
       " 'bitten',\n",
       " 'Season',\n",
       " '8',\n",
       " 'Episode',\n",
       " '8',\n",
       " 'HD',\n",
       " 'How',\n",
       " \"It's\",\n",
       " 'Gotta',\n",
       " 'Be',\n",
       " 'I',\n",
       " 'Tried']"
      ]
     },
     "execution_count": 40,
     "metadata": {},
     "output_type": "execute_result"
    }
   ],
   "source": [
    "title_words.take(20)"
   ]
  },
  {
   "cell_type": "code",
   "execution_count": 41,
   "metadata": {},
   "outputs": [],
   "source": [
    "title_wordcounts = title_words.map(lambda x: (x, 1)) \\\n",
    "                  .reduceByKey(lambda x,y:x+y) \\\n",
    "                  .map(lambda x:(x[1],x[0])) \\\n",
    "                  .sortByKey(False)"
   ]
  },
  {
   "cell_type": "code",
   "execution_count": 42,
   "metadata": {},
   "outputs": [
    {
     "data": {
      "text/plain": [
       "[(3353, '-'),\n",
       " (2845, '|'),\n",
       " (1467, 'The'),\n",
       " (1153, 'Episode'),\n",
       " (639, '2018'),\n",
       " (550, 'the'),\n",
       " (457, '&'),\n",
       " (403, 'to'),\n",
       " (383, 'of'),\n",
       " (382, 'A'),\n",
       " (354, '10'),\n",
       " (350, 'and'),\n",
       " (348, 'on'),\n",
       " (346, 'الحلقة'),\n",
       " (339, 'a'),\n",
       " (337, 'with'),\n",
       " (325, '2'),\n",
       " (296, 'Drama'),\n",
       " (293, 'To'),\n",
       " (290, 'in'),\n",
       " (268, 'TV'),\n",
       " (258, '2017'),\n",
       " (242, 'Season'),\n",
       " (236, 'With'),\n",
       " (234, 'Trailer')]"
      ]
     },
     "execution_count": 42,
     "metadata": {},
     "output_type": "execute_result"
    }
   ],
   "source": [
    "title_wordcounts.take(25)"
   ]
  },
  {
   "cell_type": "markdown",
   "metadata": {},
   "source": [
    "From this we can see that the top five most frequent words that were used in the titles of the videos on the trending list are 'Episode', '2018', 'الحلقة', 'Drama' and 'TV' ignoring the words like \"The\", \"a\"."
   ]
  },
  {
   "cell_type": "code",
   "execution_count": 55,
   "metadata": {},
   "outputs": [
    {
     "data": {
      "image/png": "[encoded data removed]",
      "text/plain": [
       "<Figure size 576x576 with 1 Axes>"
      ]
     },
     "metadata": {
      "needs_background": "light"
     },
     "output_type": "display_data"
    }
   ],
   "source": [
    "#from wordcloud import WordCloud, STOPWORDS \n",
    "from wordcloud import WordCloud, STOPWORDS\n",
    "import matplotlib.pyplot as plt\n",
    "import arabic_reshaper\n",
    "from bidi.algorithm import get_display\n",
    "stopwords = set(STOPWORDS)\n",
    "\n",
    "title_wordlist = title_words.collect()\n",
    "\n",
    "title_wordstring = (\" \").join(title_wordlist)\n",
    "\n",
    "wordcloud = WordCloud(width = 400, height = 200, random_state = 1,\n",
    "background_color ='white', collocations = False,\n",
    "#stopwords = stopwords,\n",
    "max_words = 100, include_numbers = True,\n",
    "min_font_size = 10).generate(title_wordstring)\n",
    "\n",
    "# plot the WordCloud image\n",
    "plt.figure(figsize = (8, 8), facecolor = None)\n",
    "plt.imshow(wordcloud, interpolation=\"bilinear\")\n",
    "plt.axis(\"off\")\n",
    "plt.tight_layout(pad = 0)\n",
    "\n",
    "plt.show()\n",
    "#save the wordcloud as an image\n",
    "#wordcloud.to_file(\"first_review.png\")"
   ]
  },
  {
   "cell_type": "code",
   "execution_count": null,
   "metadata": {},
   "outputs": [],
   "source": [
    "# import sys\n",
    "# print(sys.executable)\n",
    "# /conda/bin/python -m pip install wordcloud"
   ]
  },
  {
   "cell_type": "code",
   "execution_count": null,
   "metadata": {},
   "outputs": [],
   "source": [
    "# wordcloud = WordCloud(width = 800, height = 800, \n",
    "#                 background_color ='white', \n",
    "#                 stopwords = stopwords, \n",
    "#                 min_font_size = 10).generate(comment_words)"
   ]
  },
  {
   "cell_type": "markdown",
   "metadata": {},
   "source": [
    "#### 3. variable tags"
   ]
  },
  {
   "cell_type": "code",
   "execution_count": 43,
   "metadata": {},
   "outputs": [],
   "source": [
    "tags_list = df_EDA.select(\"tags2\").rdd.flatMap(lambda x: x).flatMap(lambda x: x)  "
   ]
  },
  {
   "cell_type": "code",
   "execution_count": 57,
   "metadata": {},
   "outputs": [
    {
     "data": {
      "text/plain": [
       "['the walking dead 8x08 carl was bitten season 8 episode 8 hd',\n",
       " 'the walking dead',\n",
       " 'the walking dead 8x08',\n",
       " 'the walking dead 8x08 promo',\n",
       " 'the walking dead season 8']"
      ]
     },
     "execution_count": 57,
     "metadata": {},
     "output_type": "execute_result"
    }
   ],
   "source": [
    "tags_list.take(5)"
   ]
  },
  {
   "cell_type": "code",
   "execution_count": 44,
   "metadata": {},
   "outputs": [],
   "source": [
    "tags_counts = tags_list.map(lambda x: (x, 1)) \\\n",
    "                  .reduceByKey(lambda x,y:x+y) \\\n",
    "                  .map(lambda x:(x[1],x[0])) \\\n",
    "                  .sortByKey(False)"
   ]
  },
  {
   "cell_type": "code",
   "execution_count": 59,
   "metadata": {},
   "outputs": [
    {
     "data": {
      "text/plain": [
       "[(1644, 'funny'),\n",
       " (1379, 'comedy'),\n",
       " (629, 'talk show'),\n",
       " (606, 'entertainment'),\n",
       " (553, 'humor'),\n",
       " (482, 'television'),\n",
       " (439, 'celebrity'),\n",
       " (409, 'comedian'),\n",
       " (391, 'reaction'),\n",
       " (368, 'music')]"
      ]
     },
     "execution_count": 59,
     "metadata": {},
     "output_type": "execute_result"
    }
   ],
   "source": [
    "tags_counts.take(10)"
   ]
  },
  {
   "cell_type": "markdown",
   "metadata": {},
   "source": [
    "The top 5 most used tags for videos in category Entertainment and Comedy are \"funny\", 'comedy','talk show','entertainment' and 'humor'."
   ]
  },
  {
   "cell_type": "markdown",
   "metadata": {},
   "source": [
    "## Model Building"
   ]
  },
  {
   "cell_type": "markdown",
   "metadata": {},
   "source": [
    "### Base Model\n",
    "\n",
    "#### Pipelines / Base Model Cleaning"
   ]
  },
  {
   "cell_type": "code",
   "execution_count": 45,
   "metadata": {},
   "outputs": [],
   "source": [
    "# Base model pipeline: for 1gram/words\n",
    "from pyspark.ml.feature import NGram, CountVectorizer, VectorAssembler, Tokenizer, StopWordsRemover\n",
    "from pyspark.ml import Pipeline\n",
    "\n",
    "# tokenizer to split string into word list\n",
    "tokenizer = Tokenizer(inputCol = 'title', outputCol = 'words') # need to remove \" and other symbols\n",
    "\n",
    "# Remove filler words (i the etc)\n",
    "sw = StopWordsRemover(inputCol = 'words', outputCol = 'words_filtered')\n",
    "\n",
    "# no ngrams with base pipe\n",
    "#ngram\n",
    "\n",
    "# create vectorizer: No minDF used in original\n",
    "vect = CountVectorizer(inputCol=\"words_filtered\", outputCol=\"counts\")\n",
    "\n",
    "\n",
    "# create pipe object to be used to adjust data\n",
    "pipe1 = Pipeline(stages = [tokenizer, sw, vect]) "
   ]
  },
  {
   "cell_type": "code",
   "execution_count": 46,
   "metadata": {},
   "outputs": [
    {
     "name": "stdout",
     "output_type": "stream",
     "text": [
      "+-------------------------------------------------------------------------------------------------------------+------------------------------------------------------------------------------------+\n",
      "|words                                                                                                        |words_filtered                                                                      |\n",
      "+-------------------------------------------------------------------------------------------------------------+------------------------------------------------------------------------------------+\n",
      "|[the, walking, dead, 8x08, ending, scene, carl, was, bitten, season, 8, episode, 8, hd, how, it's, gotta, be]|[walking, dead, 8x08, ending, scene, carl, bitten, season, 8, episode, 8, hd, gotta]|\n",
      "|[i, tried, making, invisible, potato, chips, , tutorial, fail, , alonzo, lerone]                             |[tried, making, invisible, potato, chips, , tutorial, fail, , alonzo, lerone]       |\n",
      "|[trump, supporters, think, he, deserves, the, nobel, peace, prize, a, closer, look]                          |[trump, supporters, think, deserves, nobel, peace, prize, closer, look]             |\n",
      "|[new, eritrean, drama, 2018, nabrana, part, 25]                                                              |[new, eritrean, drama, 2018, nabrana, part, 25]                                     |\n",
      "|[the, best, makeup, puns!]                                                                                   |[best, makeup, puns!]                                                               |\n",
      "+-------------------------------------------------------------------------------------------------------------+------------------------------------------------------------------------------------+\n",
      "only showing top 5 rows\n",
      "\n"
     ]
    }
   ],
   "source": [
    "# remove filler from title string: could be more, these are the ones I found\n",
    "df8 = df7.withColumn(\"title\", f.translate(f.col(\"title\"), '\"|:', \"\").alias('title')) #translates every instance of \" | or : into nothing even when part of word\n",
    "#Example: [\"hey:, this, |that] = [hey, this, that]\n",
    "\n",
    "# tokenize the title with filler removed - Then apply stopwordsRemover\n",
    "# Note this was needed as our 'words' included \", such that \"the was not being removed by stopwords at the beggining and end of our titles\n",
    "df9 = pipe1.fit(df8).transform(df8)\n",
    "\n",
    "# Verify their are no words unexpected\n",
    "df9.select('words','words_filtered').show(5,False)"
   ]
  },
  {
   "cell_type": "code",
   "execution_count": 57,
   "metadata": {},
   "outputs": [
    {
     "name": "stdout",
     "output_type": "stream",
     "text": [
      "+-----------------------------------------------------------------------------------------------------------+\n",
      "|counts                                                                                                     |\n",
      "+-----------------------------------------------------------------------------------------------------------+\n",
      "|(18915,[2,13,64,82,285,322,382,603,1657,3939,5923,13794],[1.0,1.0,1.0,2.0,1.0,1.0,1.0,1.0,1.0,1.0,1.0,1.0])|\n",
      "|(18915,[0,532,720,778,1128,1894,2311,2738,4138,4189],[2.0,1.0,1.0,1.0,1.0,1.0,1.0,1.0,1.0,1.0])            |\n",
      "|(18915,[21,87,224,759,2681,2728,3153,4416,4429],[1.0,1.0,1.0,1.0,1.0,1.0,1.0,1.0,1.0])                     |\n",
      "|(18915,[3,8,17,22,216,241,426],[1.0,1.0,1.0,1.0,1.0,1.0,1.0])                                              |\n",
      "|(18915,[28,343,6811],[1.0,1.0,1.0])                                                                        |\n",
      "+-----------------------------------------------------------------------------------------------------------+\n",
      "only showing top 5 rows\n",
      "\n"
     ]
    }
   ],
   "source": [
    "df9.select('counts').show(5,False) # 18915 'words' being tracked by model"
   ]
  },
  {
   "cell_type": "markdown",
   "metadata": {},
   "source": [
    "### Base Model:"
   ]
  },
  {
   "cell_type": "code",
   "execution_count": 47,
   "metadata": {},
   "outputs": [],
   "source": [
    "# split our data for model building\n",
    "training, test = df9.randomSplit([0.7, 0.3], seed=333)\n"
   ]
  },
  {
   "cell_type": "code",
   "execution_count": 59,
   "metadata": {},
   "outputs": [],
   "source": [
    "%%time\n",
    "from pyspark.ml.regression import LinearRegression\n",
    "\n",
    "\n",
    "lr_base = LinearRegression(featuresCol = 'counts', labelCol = 'days_trending')\n",
    "lr = lr_base.fit(training)\n",
    "lrPred = lr.transform(test)\n"
   ]
  },
  {
   "cell_type": "code",
   "execution_count": 87,
   "metadata": {},
   "outputs": [
    {
     "name": "stdout",
     "output_type": "stream",
     "text": [
      "+-----------+-------------+-----------+--------------------+--------------------+--------------------+-------------+--------------------+--------------------+--------------------+------------------+\n",
      "|   video_id|days_trending|day_segment|                tags|               tags2|               title| day_segment2|               words|      words_filtered|              counts|        prediction|\n",
      "+-----------+-------------+-----------+--------------------+--------------------+--------------------+-------------+--------------------+--------------------+--------------------+------------------+\n",
      "|8cj5pmZzF3M|            3|          1|the|disaster|arti...|[the, disaster, a...|The Disaster Arti...|(2,[1],[1.0])|[the, disaster, a...|[disaster, artist...|(18915,[98,991,10...|1.3370372265238881|\n",
      "|9mpwlkc2a5s|            1|          2|jimmy|jimmy kimme...|[jimmy, jimmy kim...|Jimmy Kimmel Resp...|    (2,[],[])|[jimmy, kimmel, r...|[jimmy, kimmel, r...|(18915,[198,478,7...| 3.940860413111435|\n",
      "|Atdw3OdKO4g|            1|          1|              [none]|            [[none]]|#MBCTheVoice - مر...|(2,[1],[1.0])|[#mbcthevoice, -,...|[#mbcthevoice, -,...|(18915,[1,574,143...|2.9969558353617356|\n",
      "+-----------+-------------+-----------+--------------------+--------------------+--------------------+-------------+--------------------+--------------------+--------------------+------------------+\n",
      "only showing top 3 rows\n",
      "\n"
     ]
    }
   ],
   "source": [
    "lrPred.show(3)"
   ]
  },
  {
   "cell_type": "code",
   "execution_count": 97,
   "metadata": {},
   "outputs": [
    {
     "name": "stdout",
     "output_type": "stream",
     "text": [
      "MSE: 40.768\n",
      "R Squared (R2) on test data = -2.9739\n"
     ]
    }
   ],
   "source": [
    "%%time\n",
    "# taken/modified from HW/lecture\n",
    "from pyspark.ml.evaluation import RegressionEvaluator\n",
    "eval = RegressionEvaluator(labelCol = 'days_trending', predictionCol = 'prediction', metricName = 'rmse')\n",
    "\n",
    "# Mean square\n",
    "mse = eval.evaluate(lrPred, {eval.metricName: 'mse'})\n",
    "print('MSE: %.3f' % mse)\n",
    "\n",
    "#Adjusted R-Squared\n",
    "eval2 = RegressionEvaluator(labelCol = 'days_trending', predictionCol = 'prediction', metricName = 'r2')\n",
    "print(\"R Squared (R2) on test data = %g\" % eval2.evaluate(lrPred))"
   ]
  },
  {
   "cell_type": "markdown",
   "metadata": {},
   "source": [
    "From the Above we see that our base model, including only the words from the title produces an MSE of 40.76, this is largely a useless model given the distribution of days trending below"
   ]
  },
  {
   "cell_type": "code",
   "execution_count": 60,
   "metadata": {},
   "outputs": [
    {
     "name": "stdout",
     "output_type": "stream",
     "text": [
      "+-------------+-------------------+\n",
      "|days_trending|days_trending_count|\n",
      "+-------------+-------------------+\n",
      "|           26|                  3|\n",
      "|           29|                  1|\n",
      "|           19|                 14|\n",
      "|           22|                  7|\n",
      "|            7|                179|\n",
      "|           34|                  1|\n",
      "|           32|                  1|\n",
      "|           25|                  4|\n",
      "|            6|                236|\n",
      "|            9|                117|\n",
      "|           27|                  6|\n",
      "|           17|                 24|\n",
      "|           28|                  2|\n",
      "|           33|                  2|\n",
      "|            5|                292|\n",
      "|            1|               5096|\n",
      "|           10|                 69|\n",
      "|            3|                983|\n",
      "|           12|                 60|\n",
      "|            8|                129|\n",
      "|           11|                 74|\n",
      "|            2|               2192|\n",
      "|            4|                486|\n",
      "|           13|                 72|\n",
      "|           18|                 14|\n",
      "|           14|                 40|\n",
      "|           21|                  9|\n",
      "|           15|                 49|\n",
      "|           30|                  1|\n",
      "|           23|                  7|\n",
      "|           20|                 16|\n",
      "|           16|                 32|\n",
      "|           24|                  5|\n",
      "+-------------+-------------------+\n",
      "\n"
     ]
    }
   ],
   "source": [
    "# display rough distribution of days trending\n",
    "import pyspark.sql.functions as f\n",
    "from pyspark.sql import Window\n",
    "\n",
    "# moch histogram of days trending\n",
    "\n",
    "w2 = Window.partitionBy('days_trending')\n",
    "df7.withColumn('days_trending_count', f.count('days_trending').over(w2)).select('days_trending','days_trending_count').distinct().show(50) # 33 unique values"
   ]
  },
  {
   "cell_type": "markdown",
   "metadata": {},
   "source": [
    "### Model 2: Base model + day segment"
   ]
  },
  {
   "cell_type": "code",
   "execution_count": 62,
   "metadata": {},
   "outputs": [],
   "source": [
    "# add in more predictors (assemble) ( Apply before training split)\n",
    "assembler = VectorAssembler(inputCols = [x for x in df9.columns if x in ['day_segment','counts']], outputCol = \"features\")\n",
    "\n",
    "# transform df9\n",
    "df10 = assembler.transform(df9).select('days_trending','features','day_segment')"
   ]
  },
  {
   "cell_type": "code",
   "execution_count": 65,
   "metadata": {},
   "outputs": [
    {
     "name": "stdout",
     "output_type": "stream",
     "text": [
      "+-------------+-----------------------------------------------------------------------------------------------------------------+-----------+\n",
      "|days_trending|features                                                                                                         |day_segment|\n",
      "+-------------+-----------------------------------------------------------------------------------------------------------------+-----------+\n",
      "|4            |(18916,[0,3,14,65,83,286,323,383,604,1658,3940,5924,13795],[2.0,1.0,1.0,1.0,2.0,1.0,1.0,1.0,1.0,1.0,1.0,1.0,1.0])|2          |\n",
      "|2            |(18916,[0,1,533,721,779,1129,1895,2312,2739,4139,4190],[2.0,2.0,1.0,1.0,1.0,1.0,1.0,1.0,1.0,1.0,1.0])            |2          |\n",
      "|2            |(18916,[0,22,88,225,760,2682,2729,3154,4417,4430],[2.0,1.0,1.0,1.0,1.0,1.0,1.0,1.0,1.0,1.0])                     |2          |\n",
      "|1            |(18916,[0,4,9,18,23,217,242,427],[1.0,1.0,1.0,1.0,1.0,1.0,1.0,1.0])                                              |1          |\n",
      "|1            |(18916,[0,29,344,6812],[1.0,1.0,1.0,1.0])                                                                        |1          |\n",
      "|3            |(18916,[0,99,992,1049],[1.0,1.0,1.0,1.0])                                                                        |1          |\n",
      "|1            |(18916,[199,479,1301,3057,13617,16798],[1.0,1.0,1.0,1.0,1.0,1.0])                                                |0          |\n",
      "|5            |(18916,[0,63,332,819,1476,3080,3465,3873,18572],[1.0,1.0,1.0,1.0,1.0,1.0,1.0,1.0,1.0])                           |1          |\n",
      "+-------------+-----------------------------------------------------------------------------------------------------------------+-----------+\n",
      "only showing top 8 rows\n",
      "\n"
     ]
    }
   ],
   "source": [
    "df10.show(8, False) # note our count is incremented by 1, added 1 more variable, index is 0 for day_segment"
   ]
  },
  {
   "cell_type": "code",
   "execution_count": 63,
   "metadata": {},
   "outputs": [
    {
     "name": "stdout",
     "output_type": "stream",
     "text": [
      "CPU times: user 2.9 s, sys: 1.56 s, total: 4.46 s\n",
      "Wall time: 13min\n"
     ]
    }
   ],
   "source": [
    "%%time\n",
    "from pyspark.ml.regression import LinearRegression\n",
    "# split our data for model building\n",
    "training2, test2 = df10.randomSplit([0.7, 0.3], seed=333)\n",
    "\n",
    "# create model\n",
    "lr_mod2 = LinearRegression(featuresCol = 'features', labelCol = 'days_trending')\n",
    "lr2 = lr_mod2.fit(training2)\n",
    "lrPred2 = lr2.transform(test2)"
   ]
  },
  {
   "cell_type": "code",
   "execution_count": 66,
   "metadata": {},
   "outputs": [
    {
     "name": "stdout",
     "output_type": "stream",
     "text": [
      "MSE: 46.708\n",
      "R Squared (R2) on Base Model with Day Segment = -3.36078\n"
     ]
    }
   ],
   "source": [
    "from pyspark.ml.evaluation import RegressionEvaluator\n",
    "eval = RegressionEvaluator(labelCol = 'days_trending', predictionCol = 'prediction', metricName = 'rmse')\n",
    "\n",
    "# Mean square\n",
    "mse2 = eval.evaluate(lrPred2, {eval.metricName: 'mse'})\n",
    "print('MSE: %.3f' % mse2)\n",
    "\n",
    "#Adjusted R-Squared\n",
    "eval2 = RegressionEvaluator(labelCol = 'days_trending', predictionCol = 'prediction', metricName = 'r2')\n",
    "print(\"R Squared (R2) on Base Model with Day Segment = %g\" % eval2.evaluate(lrPred2))"
   ]
  },
  {
   "cell_type": "markdown",
   "metadata": {},
   "source": [
    "Thus we can see through the MSE that our model has been made worse through with day segments"
   ]
  },
  {
   "cell_type": "code",
   "execution_count": 94,
   "metadata": {},
   "outputs": [
    {
     "name": "stdout",
     "output_type": "stream",
     "text": [
      "+-------------------+\n",
      "|         prediction|\n",
      "+-------------------+\n",
      "| 2.4712121235229105|\n",
      "|  1.653124006876224|\n",
      "|-3.2141362953866635|\n",
      "|  3.753315776676674|\n",
      "|   1.60292377650973|\n",
      "| 2.8473661492944697|\n",
      "|  2.209976176671075|\n",
      "| 3.2657983772138888|\n",
      "| 11.379470682931924|\n",
      "|  6.349259426075786|\n",
      "|-0.9628113842613324|\n",
      "| -6.548162202855322|\n",
      "| -4.197044241814408|\n",
      "| 1.5399381898681899|\n",
      "|-1.1413019712710009|\n",
      "+-------------------+\n",
      "only showing top 15 rows\n",
      "\n"
     ]
    }
   ],
   "source": [
    "lrPred2.select('prediction').show(15) # MSE 46 is much worse, observing prediction values shows negatives which we would never want\n",
    "# these negative values are from the 'nature' of regression fitting a straight line"
   ]
  },
  {
   "cell_type": "markdown",
   "metadata": {},
   "source": [
    "### Model 3: Introducing Ngrams"
   ]
  },
  {
   "cell_type": "code",
   "execution_count": 49,
   "metadata": {},
   "outputs": [],
   "source": [
    "# taken from: https://stackoverflow.com/questions/38839924/how-to-combine-n-grams-into-one-vocabulary-in-spark, modified for our dataframe + added tokenizer\n",
    "# NOTE: Perhaps we should 'normalize' titles/words further, tokenizer appears to cast all to lower case automatically\n",
    "# if we want more than 5grams, increment n+=1\n",
    "from pyspark.ml.feature import NGram, CountVectorizer, VectorAssembler, Tokenizer\n",
    "from pyspark.ml import Pipeline\n",
    "\n",
    "\n",
    "def build_ngrams(inputCol=\"title\", n=5):\n",
    "    \n",
    "    ngrams = [\n",
    "        NGram(n=i, inputCol=\"words\", outputCol=\"{0}_grams\".format(i))\n",
    "        for i in range(3, n + 1)\n",
    "    ]\n",
    "    # No min_df used in initial model\n",
    "    vectorizers = [\n",
    "        CountVectorizer(inputCol=\"{0}_grams\".format(i),\n",
    "            outputCol=\"{0}_counts\".format(i))\n",
    "        for i in range(3, n + 1)\n",
    "    ]\n",
    "\n",
    "    assembler = [VectorAssembler(\n",
    "        inputCols=[\"{0}_counts\".format(i) for i in range(3, n + 1)],\n",
    "        outputCol=\"ngram_title\"\n",
    "    )]\n",
    "\n",
    "    return Pipeline(stages=  ngrams + vectorizers + assembler)\n"
   ]
  },
  {
   "cell_type": "code",
   "execution_count": 50,
   "metadata": {},
   "outputs": [],
   "source": [
    "df_nlp = build_ngrams().fit(df9).transform(df9) # Note: df9 not necessary as we are inputing the 'words' column\n",
    "# We input the words column so no stopwords have been applied in this model but our filter (removing \"|:) has been applied on the words"
   ]
  },
  {
   "cell_type": "code",
   "execution_count": 51,
   "metadata": {},
   "outputs": [
    {
     "name": "stdout",
     "output_type": "stream",
     "text": [
      "MSE: 10.062\n",
      "R Squared (R2)  = 0.019198\n",
      "CPU times: user 2.36 s, sys: 1.24 s, total: 3.6 s\n",
      "Wall time: 1h 28min 12s\n"
     ]
    }
   ],
   "source": [
    "%%time\n",
    "# model with just 3gram, 4gram, 5gram\n",
    "from pyspark.ml.regression import LinearRegression\n",
    "# split our data for model building\n",
    "training3, test3 = df_nlp.randomSplit([0.7, 0.3], seed=333)\n",
    "\n",
    "# create model\n",
    "lr_mod3 = LinearRegression(featuresCol = 'ngram_title', labelCol = 'days_trending')\n",
    "lr3 = lr_mod3.fit(training3)\n",
    "lrPred3 = lr3.transform(test3)\n",
    "\n",
    "# Evaluate the model\n",
    "from pyspark.ml.evaluation import RegressionEvaluator\n",
    "eval = RegressionEvaluator(labelCol = 'days_trending', predictionCol = 'prediction', metricName = 'rmse')\n",
    "\n",
    "# Mean square\n",
    "mse3 = eval.evaluate(lrPred3, {eval.metricName: 'mse'})\n",
    "print('MSE: %.3f' % mse3)\n",
    "\n",
    "#Adjusted R-Squared: Use eval2\n",
    "eval2 = RegressionEvaluator(labelCol = 'days_trending', predictionCol = 'prediction', metricName = 'r2')\n",
    "print(\"R Squared (R2)  = %g\" % eval2.evaluate(lrPred3))"
   ]
  },
  {
   "cell_type": "markdown",
   "metadata": {},
   "source": [
    "Thus we see that without using the stopwords remover, and simply looking at ngrams up to 5 our model has greatly improved\n",
    "\n",
    "Noting that this model took an excessive amount of time to train given the lack of cleaning on the features"
   ]
  },
  {
   "cell_type": "markdown",
   "metadata": {},
   "source": [
    "### Model 4: Exploring NLP"
   ]
  },
  {
   "cell_type": "code",
   "execution_count": 52,
   "metadata": {},
   "outputs": [],
   "source": [
    "# Create model with minDF to clean features and reduce model building time\n",
    "\n",
    "from pyspark.ml.feature import NGram, CountVectorizer, VectorAssembler, Tokenizer\n",
    "from pyspark.ml import Pipeline\n",
    "\n",
    "\n",
    "def build_ngrams2(inputCol=\"title\", n=5):\n",
    "    \n",
    "    ngrams = [\n",
    "        NGram(n=i, inputCol=\"words\", outputCol=\"{0}_grams\".format(i))\n",
    "        for i in range(1, n + 1)\n",
    "    ]\n",
    "    #  minDF=0.01: \"ignore terms that appear in less than 1% of the documents\"\n",
    "    vectorizers = [\n",
    "        CountVectorizer(inputCol=\"{0}_grams\".format(i),\n",
    "            outputCol=\"{0}_counts\".format(i), minDF = 0.01)\n",
    "        for i in range(1, n + 1)\n",
    "    ]\n",
    "\n",
    "    assembler = [VectorAssembler(\n",
    "        inputCols=[\"{0}_counts\".format(i) for i in range(1, n + 1)],\n",
    "        outputCol=\"ngram_title\"\n",
    "    )]\n",
    "\n",
    "    return Pipeline(stages=  ngrams + vectorizers + assembler)"
   ]
  },
  {
   "cell_type": "code",
   "execution_count": 53,
   "metadata": {},
   "outputs": [],
   "source": [
    "df11 = df7.withColumn(\"title\", f.translate(f.col(\"title\"), '\"', \"\").alias('title')) # just want to remove artifacts from string conversion, |; may be relavent to model\n"
   ]
  },
  {
   "cell_type": "code",
   "execution_count": 54,
   "metadata": {},
   "outputs": [],
   "source": [
    "df11 = pipe1.fit(df11).transform(df11) # Note: pipe1 tokenizes the title and filters the words, then creates counts on single filtered words"
   ]
  },
  {
   "cell_type": "code",
   "execution_count": 55,
   "metadata": {},
   "outputs": [
    {
     "name": "stdout",
     "output_type": "stream",
     "text": [
      "+-----------+-------------+-----------+--------------------+--------------------+--------------------+------------+--------------------+--------------------+--------------------+\n",
      "|   video_id|days_trending|day_segment|                tags|               tags2|               title|day_segment2|               words|      words_filtered|              counts|\n",
      "+-----------+-------------+-----------+--------------------+--------------------+--------------------+------------+--------------------+--------------------+--------------------+\n",
      "|-H90GPnH1q8|            4|          2|The Walking Dead ...|[the walking dead...|The Walking Dead ...|   (2,[],[])|[the, walking, de...|[walking, dead, 8...|(19326,[2,13,63,8...|\n",
      "|4V-yu1qYDnE|            2|          2|Alonzo Lerone|Alo...|[alonzo lerone, a...|I Tried Making IN...|   (2,[],[])|[i, tried, making...|[tried, making, i...|(19326,[1,569,722...|\n",
      "|6vi6yQtntdE|            2|          2|Late|Night|with|S...|[late, night, wit...|Trump Supporters ...|   (2,[],[])|[trump, supporter...|[trump, supporter...|(19326,[22,107,21...|\n",
      "+-----------+-------------+-----------+--------------------+--------------------+--------------------+------------+--------------------+--------------------+--------------------+\n",
      "only showing top 3 rows\n",
      "\n"
     ]
    }
   ],
   "source": [
    "df11.show(3) "
   ]
  },
  {
   "cell_type": "code",
   "execution_count": 56,
   "metadata": {},
   "outputs": [],
   "source": [
    "df_NLP2 = build_ngrams2().fit(df11).transform(df11)"
   ]
  },
  {
   "cell_type": "code",
   "execution_count": 57,
   "metadata": {},
   "outputs": [
    {
     "name": "stdout",
     "output_type": "stream",
     "text": [
      "+--------------------+\n",
      "|         ngram_title|\n",
      "+--------------------+\n",
      "|(111,[2,3,24,39],...|\n",
      "|(111,[1,29],[2.0,...|\n",
      "|(111,[2,5,40],[1....|\n",
      "+--------------------+\n",
      "only showing top 3 rows\n",
      "\n"
     ]
    }
   ],
   "source": [
    "df_NLP2.select('ngram_title').show(3) # 111 features from all ngrams kept"
   ]
  },
  {
   "cell_type": "code",
   "execution_count": 58,
   "metadata": {},
   "outputs": [
    {
     "name": "stdout",
     "output_type": "stream",
     "text": [
      "MSE: 9.585\n",
      "R Squared (R2) = 0.0558613\n",
      "CPU times: user 178 ms, sys: 80.1 ms, total: 259 ms\n",
      "Wall time: 1min 12s\n"
     ]
    }
   ],
   "source": [
    "%%time\n",
    "# model with all ngrams up to 5 and filtered to contain only words/phrases included in atleast 1% of observations\n",
    "from pyspark.ml.regression import LinearRegression\n",
    "# split our data for model building\n",
    "training4, test4 = df_NLP2.randomSplit([0.6, 0.4], seed=333) # given size of dataset have elected a more even train/test split\n",
    "\n",
    "# create model\n",
    "lr_mod4 = LinearRegression(featuresCol = 'ngram_title', labelCol = 'days_trending')\n",
    "lr4 = lr_mod4.fit(training4)\n",
    "lrPred4 = lr4.transform(test4)\n",
    "\n",
    "# Evalueate model\n",
    "from pyspark.ml.evaluation import RegressionEvaluator\n",
    "eval = RegressionEvaluator(labelCol = 'days_trending', predictionCol = 'prediction', metricName = 'rmse')\n",
    "\n",
    "# Mean square\n",
    "mse4 = eval.evaluate(lrPred4, {eval.metricName: 'mse'})\n",
    "print('MSE: %.3f' % mse4)\n",
    "\n",
    "#Adjusted R-Squared\n",
    "eval4 = RegressionEvaluator(labelCol = 'days_trending', predictionCol = 'prediction', metricName = 'r2')\n",
    "print(\"R Squared (R2) = %g\" % eval4.evaluate(lrPred4))"
   ]
  },
  {
   "cell_type": "markdown",
   "metadata": {},
   "source": [
    "Thus by introducing minDF into our vector assembler we were able to reduce the number of features greatly while improving our MSE and vastly improving model Train time"
   ]
  },
  {
   "cell_type": "markdown",
   "metadata": {},
   "source": [
    "### Model 5: NLP stopword exploration"
   ]
  },
  {
   "cell_type": "code",
   "execution_count": 59,
   "metadata": {},
   "outputs": [],
   "source": [
    "# Pipeline: split which words (filtered/ not filtered) are used in ngrams\n",
    "def build_ngrams_split(inputCol=\"title\", n=5):\n",
    "    \n",
    "    ngrams = [\n",
    "        NGram(n=i, inputCol='words_filtered' , outputCol=\"{0}_grams\".format(i))\n",
    "        for i in range(1, 3)\n",
    "    ]\n",
    "    \n",
    "    ngrams2 = [\n",
    "        NGram(n=i, inputCol='words' , outputCol=\"{0}_grams\".format(i))\n",
    "        for i in range(3, n+1)\n",
    "    ] # use other column of unfiltered words for ngrams greater than 2: 'The fact is' holds more context than 'fact'\n",
    "    \n",
    "    #  minDF=0.01: \"ignore terms that appear in less than 1% of the documents\"\n",
    "    vectorizers = [\n",
    "        CountVectorizer(inputCol=\"{0}_grams\".format(i),\n",
    "            outputCol=\"{0}_counts\".format(i), minDF = 0.01)\n",
    "        for i in range(1, n + 1)\n",
    "    ]\n",
    "\n",
    "    assembler = [VectorAssembler(\n",
    "        inputCols=[\"{0}_counts\".format(i) for i in range(1, n + 1)],\n",
    "        outputCol=\"ngram_title\"\n",
    "    )]\n",
    "\n",
    "    return Pipeline(stages=  ngrams + ngrams2 + vectorizers + assembler)"
   ]
  },
  {
   "cell_type": "code",
   "execution_count": 60,
   "metadata": {},
   "outputs": [],
   "source": [
    "df_NLP3 = build_ngrams_split().fit(df11).transform(df11) # NOTE: df11 includes :| and other characters initially filtered"
   ]
  },
  {
   "cell_type": "code",
   "execution_count": 61,
   "metadata": {},
   "outputs": [
    {
     "name": "stdout",
     "output_type": "stream",
     "text": [
      "+--------------------+--------------------+--------------------+--------------------+--------------------+\n",
      "|               title|             2_grams|             3_grams|             4_grams|             5_grams|\n",
      "+--------------------+--------------------+--------------------+--------------------+--------------------+\n",
      "|The Walking Dead ...|[walking dead, de...|[the walking dead...|[the walking dead...|[the walking dead...|\n",
      "|I Tried Making IN...|[tried making, ma...|[i tried making, ...|[i tried making i...|[i tried making i...|\n",
      "|Trump Supporters ...|[trump supporters...|[trump supporters...|[trump supporters...|[trump supporters...|\n",
      "+--------------------+--------------------+--------------------+--------------------+--------------------+\n",
      "only showing top 3 rows\n",
      "\n"
     ]
    }
   ],
   "source": [
    "df_NLP3.select('title','2_grams','3_grams','4_grams','5_grams').show(3) # notice lack of stopwords for n < 3"
   ]
  },
  {
   "cell_type": "code",
   "execution_count": 62,
   "metadata": {},
   "outputs": [
    {
     "name": "stdout",
     "output_type": "stream",
     "text": [
      "MSE: 9.793\n",
      "R Squared (R2)  = 0.0353693\n",
      "CPU times: user 155 ms, sys: 101 ms, total: 256 ms\n",
      "Wall time: 1min 9s\n"
     ]
    }
   ],
   "source": [
    "%%time\n",
    "# model with all ngrams up to 5 and filtered to contain only words/phrases included in atleast 1% of observations\n",
    "from pyspark.ml.regression import LinearRegression\n",
    "# split our data for model building\n",
    "training5, test5 = df_NLP3.randomSplit([0.6, 0.4], seed=333) # given size of dataset have elected a more even train/test split\n",
    "\n",
    "# create model\n",
    "lr_mod5 = LinearRegression(featuresCol = 'ngram_title', labelCol = 'days_trending')\n",
    "lr5 = lr_mod5.fit(training5)\n",
    "lrPred5 = lr5.transform(test5)\n",
    "\n",
    "# Evaluate Model\n",
    "from pyspark.ml.evaluation import RegressionEvaluator\n",
    "eval = RegressionEvaluator(labelCol = 'days_trending', predictionCol = 'prediction', metricName = 'rmse')\n",
    "\n",
    "# Mean square\n",
    "mse5 = eval.evaluate(lrPred5, {eval.metricName: 'mse'})\n",
    "print('MSE: %.3f' % mse5)\n",
    "\n",
    "#Adjusted R-Squared\n",
    "eval5 = RegressionEvaluator(labelCol = 'days_trending', predictionCol = 'prediction', metricName = 'r2')\n",
    "print(\"R Squared (R2)  = %g\" % eval5.evaluate(lrPred5))"
   ]
  },
  {
   "cell_type": "markdown",
   "metadata": {},
   "source": [
    "Our model MSE has slightly been increased, likely indicating that we removed useful information by removing the stopwords for ngrams < 3"
   ]
  },
  {
   "cell_type": "markdown",
   "metadata": {},
   "source": [
    "## Model 6: feature expansion"
   ]
  },
  {
   "cell_type": "code",
   "execution_count": 63,
   "metadata": {},
   "outputs": [],
   "source": [
    "# Pipeline: revert back to including stopwords for all n, and include day_segment2 \n",
    "# day_segment was previously shown unhelpful but have been turned into a feature vector as there are only 3 options to further test\n",
    "def build_ngrams_features(inputCol=\"title\", n=5):\n",
    "    \n",
    "    ngrams = [\n",
    "        NGram(n=i, inputCol='words' , outputCol=\"{0}_grams\".format(i))\n",
    "        for i in range(1, n+1)\n",
    "    ]\n",
    "    \n",
    "   \n",
    "    \n",
    "    #  minDF=0.01: \"ignore terms that appear in less than 1% of the documents\"\n",
    "    vectorizers = [\n",
    "        CountVectorizer(inputCol=\"{0}_grams\".format(i),\n",
    "            outputCol=\"{0}_counts\".format(i), minDF = 0.01)\n",
    "        for i in range(1, n + 1)\n",
    "    ]\n",
    "\n",
    "    assembler = [VectorAssembler(\n",
    "        inputCols=[\"{0}_counts\".format(i) for i in range(1, n + 1)],\n",
    "        outputCol=\"ngram_title\"\n",
    "    )]\n",
    "    \n",
    "    # other variables we would like to add into our model\n",
    "    assembler2 = [VectorAssembler(\n",
    "        inputCols = ['day_segment2','ngram_title'], \n",
    "        outputCol = 'features'\n",
    "    )]\n",
    "\n",
    "    return Pipeline(stages=  ngrams  + vectorizers + assembler + assembler2)"
   ]
  },
  {
   "cell_type": "code",
   "execution_count": 64,
   "metadata": {},
   "outputs": [],
   "source": [
    "df_NLP4 = build_ngrams_features().fit(df11).transform(df11)"
   ]
  },
  {
   "cell_type": "code",
   "execution_count": 65,
   "metadata": {},
   "outputs": [
    {
     "name": "stdout",
     "output_type": "stream",
     "text": [
      "+--------------------+\n",
      "|            features|\n",
      "+--------------------+\n",
      "|(113,[4,5,26,41],...|\n",
      "+--------------------+\n",
      "only showing top 1 row\n",
      "\n"
     ]
    }
   ],
   "source": [
    "df_NLP4.select('features').show(1) # 113 features"
   ]
  },
  {
   "cell_type": "code",
   "execution_count": 66,
   "metadata": {},
   "outputs": [
    {
     "name": "stdout",
     "output_type": "stream",
     "text": [
      "MSE: 9.610\n",
      "R Squared (R2) = 0.0534279\n",
      "CPU times: user 165 ms, sys: 85.9 ms, total: 251 ms\n",
      "Wall time: 1min 8s\n"
     ]
    }
   ],
   "source": [
    "%%time\n",
    "# model with all ngrams up to 5 and filtered to contain only words/phrases included in atleast 1% of observations\n",
    "from pyspark.ml.regression import LinearRegression\n",
    "# split our data for model building\n",
    "training6, test6 = df_NLP4.randomSplit([0.6, 0.4], seed=333) # given size of dataset have elected a more even train/test split\n",
    "\n",
    "# create model\n",
    "lr_mod6 = LinearRegression(featuresCol = 'features', labelCol = 'days_trending')\n",
    "lr6 = lr_mod6.fit(training6)\n",
    "lrPred6 = lr6.transform(test6)\n",
    "\n",
    "# Evauate Model\n",
    "from pyspark.ml.evaluation import RegressionEvaluator\n",
    "eval = RegressionEvaluator(labelCol = 'days_trending', predictionCol = 'prediction', metricName = 'rmse')\n",
    "\n",
    "# Mean square\n",
    "mse6 = eval.evaluate(lrPred6, {eval.metricName: 'mse'})\n",
    "print('MSE: %.3f' % mse6)\n",
    "\n",
    "#Adjusted R-Squared\n",
    "eval6 = RegressionEvaluator(labelCol = 'days_trending', predictionCol = 'prediction', metricName = 'r2')\n",
    "print(\"R Squared (R2) = %g\" % eval6.evaluate(lrPred6))"
   ]
  },
  {
   "cell_type": "markdown",
   "metadata": {},
   "source": [
    "Thus this shows that using the non-filtered words appears to be giving better accuracy and reitterates that our day_segment (even when turned to features from onehotEncoder) is misleading for our model"
   ]
  },
  {
   "cell_type": "markdown",
   "metadata": {},
   "source": [
    "## Model 4.1: explore regression settings \n",
    "Given we have shown that adding in the day segment has not helped our model nor has using the filtered words, I will try and optimize MSE with internal settings\n",
    "\n",
    "Will attempt to add more features (tags NLP) in future iterations\n",
    "\n",
    "Note: Can use df_NLP2 for model building"
   ]
  },
  {
   "cell_type": "code",
   "execution_count": 68,
   "metadata": {},
   "outputs": [
    {
     "name": "stdout",
     "output_type": "stream",
     "text": [
      "CPU times: user 203 ms, sys: 94.1 ms, total: 297 ms\n",
      "Wall time: 1min 19s\n"
     ]
    }
   ],
   "source": [
    "%%time\n",
    "# NOTE: When \\lambda>0 (i.e. regParam >0) and \\alpha=0 (i.e. elasticNetParam =0) , then the penalty is an L2 penalty. (ridge regression)\n",
    "# Note: When \\lambda>0 (i.e. regParam >0) and \\alpha=1 (i.e. elasticNetParam =1), then the penalty is an L1 penalty. (lasso (variable selection))\n",
    "# LinearRegresion(featuresCol = '', labelCol = '', maxIter=10, regParam=0.3,  elasticNetParam=0.8...)\n",
    "# https://spark.apache.org/docs/latest/api/python/_modules/pyspark/ml/regression.html\n",
    "\n",
    "# model with all ngrams up to 5 and filtered to contain only words/phrases included in atleast 1% of observations\n",
    "from pyspark.ml.regression import LinearRegression\n",
    "\n",
    "# split our data for model building\n",
    "training7, test7 = df_NLP2.randomSplit([0.6, 0.4], seed=333) \n",
    "\n",
    "# create model - Ridge regression\n",
    "lr_mod7 = LinearRegression(featuresCol = 'ngram_title', labelCol = 'days_trending', maxIter = 10, regParam = 0.3, elasticNetParam = 0 )\n",
    "lr7 = lr_mod7.fit(training7)\n",
    "lrPred7 = lr7.transform(test7)\n",
    "\n",
    "# Create model - lasso\n",
    "lr_mod8 = LinearRegression(featuresCol = 'ngram_title', labelCol = 'days_trending',maxIter = 10, regParam = 0.3, elasticNetParam = 1)\n",
    "lr8 = lr_mod8.fit(training7)\n",
    "lrPred8 = lr8.transform(test7)\n"
   ]
  },
  {
   "cell_type": "code",
   "execution_count": 69,
   "metadata": {},
   "outputs": [
    {
     "name": "stdout",
     "output_type": "stream",
     "text": [
      "MSE ridge: 9.558\n",
      "MSE lasso: 9.893\n",
      "R Squared (R2) ridge = 0.0585086\n",
      "R Squared (R2) lasso = 0.0255109\n"
     ]
    }
   ],
   "source": [
    "from pyspark.ml.evaluation import RegressionEvaluator\n",
    "eval = RegressionEvaluator(labelCol = 'days_trending', predictionCol = 'prediction', metricName = 'rmse')\n",
    "\n",
    "# Mean square\n",
    "mse7 = eval.evaluate(lrPred7, {eval.metricName: 'mse'})\n",
    "print('MSE ridge: %.3f' % mse7)\n",
    "\n",
    "mse8 = eval.evaluate(lrPred8, {eval.metricName: 'mse'})\n",
    "print('MSE lasso: %.3f' % mse8)\n",
    "\n",
    "#Adjusted R-Squared\n",
    "eval7 = RegressionEvaluator(labelCol = 'days_trending', predictionCol = 'prediction', metricName = 'r2')\n",
    "print(\"R Squared (R2) ridge = %g\" % eval7.evaluate(lrPred7))\n",
    "\n",
    "\n",
    "eval8 = RegressionEvaluator(labelCol = 'days_trending', predictionCol = 'prediction', metricName = 'r2')\n",
    "print(\"R Squared (R2) lasso = %g\" % eval8.evaluate(lrPred8))\n"
   ]
  },
  {
   "cell_type": "markdown",
   "metadata": {},
   "source": [
    "Thus from the above we can see that our ridge model outperformed our lasso model with these features, and further our ridge regression is marginally better than default MSE of 9.585\n",
    "\n",
    "NOTE: if we had not included maxIter/ regParam both of these models MSE would have been 9.585 (same as the original)"
   ]
  },
  {
   "cell_type": "markdown",
   "metadata": {},
   "source": [
    "## Model 6.2: Feature expansion continued"
   ]
  },
  {
   "cell_type": "code",
   "execution_count": 70,
   "metadata": {},
   "outputs": [],
   "source": [
    "# Pipeline\n",
    "def build_ngrams_features2(inputCol=\"title\", n=5):\n",
    "    \n",
    "    ngrams = [\n",
    "        NGram(n=i, inputCol='words' , outputCol=\"{0}_grams\".format(i))\n",
    "        for i in range(1, n+1)\n",
    "    ]\n",
    "    \n",
    "   \n",
    "    \n",
    "    #  minDF=0.01: \"ignore terms that appear in less than 1% of the documents\"\n",
    "    vectorizers = [\n",
    "        CountVectorizer(inputCol=\"{0}_grams\".format(i),\n",
    "            outputCol=\"{0}_counts\".format(i), minDF = 0.01)\n",
    "        for i in range(1, n + 1)\n",
    "    ]\n",
    "    \n",
    "    # vectorizer for tags\n",
    "    tagv = [CountVectorizer(\n",
    "        inputCol = 'tags2',\n",
    "        outputCol = 'tags_count', minDF = 0.01\n",
    "    )]\n",
    "\n",
    "    assembler = [VectorAssembler(\n",
    "        inputCols=[\"{0}_counts\".format(i) for i in range(1, n + 1)],\n",
    "        outputCol=\"ngram_title\"\n",
    "    )]\n",
    "    \n",
    "    # other variables we would like to add into our model\n",
    "    assembler2 = [VectorAssembler(\n",
    "        inputCols = ['day_segment2','ngram_title','tags_count'], \n",
    "        outputCol = 'features'\n",
    "    )]\n",
    "\n",
    "    return Pipeline(stages=  ngrams  + vectorizers + tagv + assembler + assembler2)"
   ]
  },
  {
   "cell_type": "code",
   "execution_count": 71,
   "metadata": {},
   "outputs": [],
   "source": [
    "df_NLP5 = build_ngrams_features2().fit(df11).transform(df11)"
   ]
  },
  {
   "cell_type": "code",
   "execution_count": 72,
   "metadata": {},
   "outputs": [
    {
     "name": "stdout",
     "output_type": "stream",
     "text": [
      "+--------------------+\n",
      "|            features|\n",
      "+--------------------+\n",
      "|(297,[4,5,26,41],...|\n",
      "|(297,[3,31,114,12...|\n",
      "|(297,[4,7,42,113,...|\n",
      "+--------------------+\n",
      "only showing top 3 rows\n",
      "\n"
     ]
    }
   ],
   "source": [
    "df_NLP5.select('features').show(3) # 297 features, up from 113 without tags under the same minDF criteria for tags and title ngrams/words"
   ]
  },
  {
   "cell_type": "code",
   "execution_count": 73,
   "metadata": {},
   "outputs": [],
   "source": [
    "# This is incase we don't want to train model below but need training8/test8 for other models\n",
    "training8, test8 = df_NLP5.randomSplit([0.6, 0.4], seed=333)"
   ]
  },
  {
   "cell_type": "code",
   "execution_count": 74,
   "metadata": {},
   "outputs": [
    {
     "name": "stdout",
     "output_type": "stream",
     "text": [
      "MSE ridge: 9.479\n",
      "R Squared (R2) = 0.0663276\n",
      "CPU times: user 153 ms, sys: 108 ms, total: 261 ms\n",
      "Wall time: 1min 12s\n"
     ]
    }
   ],
   "source": [
    "%%time\n",
    "\n",
    "# model with all title ngrams up to 5 and filtered and TAGS to contain only words/phrases included in atleast 1% of observations\n",
    "from pyspark.ml.regression import LinearRegression\n",
    "\n",
    "# split our data for model building\n",
    "training8, test8 = df_NLP5.randomSplit([0.6, 0.4], seed=333) \n",
    "\n",
    "# create model - Ridge regression\n",
    "lr_mod9 = LinearRegression(featuresCol = 'features', labelCol = 'days_trending', maxIter = 10, regParam = 0.3, elasticNetParam = 0 )\n",
    "lr9 = lr_mod9.fit(training8)\n",
    "lrPred9 = lr9.transform(test8)\n",
    "\n",
    "# evaluate Model\n",
    "from pyspark.ml.evaluation import RegressionEvaluator\n",
    "eval = RegressionEvaluator(labelCol = 'days_trending', predictionCol = 'prediction', metricName = 'rmse')\n",
    "\n",
    "# Mean square\n",
    "mse9 = eval.evaluate(lrPred9, {eval.metricName: 'mse'})\n",
    "print('MSE ridge: %.3f' % mse9)\n",
    "\n",
    "#Adjusted R-Squared\n",
    "eval9 = RegressionEvaluator(labelCol = 'days_trending', predictionCol = 'prediction', metricName = 'r2')\n",
    "print(\"R Squared (R2) = %g\" % eval9.evaluate(lrPred9))"
   ]
  },
  {
   "cell_type": "markdown",
   "metadata": {},
   "source": [
    "## Chisquare Selector"
   ]
  },
  {
   "cell_type": "code",
   "execution_count": 76,
   "metadata": {},
   "outputs": [
    {
     "name": "stdout",
     "output_type": "stream",
     "text": [
      "ChiSqSelector output with top 25 features selected\n"
     ]
    }
   ],
   "source": [
    "# ChiSquare Selection\n",
    "from pyspark.ml.feature import ChiSqSelector\n",
    "selector = ChiSqSelector(numTopFeatures=25, featuresCol=\"features\",\n",
    "                         outputCol=\"selectedFeatures\", labelCol=\"days_trending\")\n",
    "\n",
    "ChiSqresult = selector.fit(df_NLP5).transform(df_NLP5)\n",
    "\n",
    "print(\"ChiSqSelector output with top %d features selected\" % selector.getNumTopFeatures())\n"
   ]
  },
  {
   "cell_type": "code",
   "execution_count": 77,
   "metadata": {},
   "outputs": [
    {
     "name": "stdout",
     "output_type": "stream",
     "text": [
      "+--------------------+--------------------+\n",
      "|            features|    selectedFeatures|\n",
      "+--------------------+--------------------+\n",
      "|(297,[4,5,26,41],...|      (25,[1],[1.0])|\n",
      "|(297,[3,31,114,12...|     (25,[12],[1.0])|\n",
      "|(297,[4,7,42,113,...|(25,[2,12],[1.0,1...|\n",
      "+--------------------+--------------------+\n",
      "only showing top 3 rows\n",
      "\n"
     ]
    }
   ],
   "source": [
    "ChiSqresult.select('features', 'selectedFeatures').show(3)"
   ]
  },
  {
   "cell_type": "markdown",
   "metadata": {},
   "source": [
    "### Test selected features"
   ]
  },
  {
   "cell_type": "code",
   "execution_count": 78,
   "metadata": {},
   "outputs": [
    {
     "name": "stdout",
     "output_type": "stream",
     "text": [
      "MSE ridge: 9.602\n",
      "R Squared (R2) = 0.05419\n",
      "CPU times: user 170 ms, sys: 77.7 ms, total: 248 ms\n",
      "Wall time: 1min 14s\n"
     ]
    }
   ],
   "source": [
    "%%time\n",
    "\n",
    "# model with all title ngrams up to 5 and filtered and TAGS to contain only words/phrases included in atleast 1% of observations\n",
    "# Chisquare filtered for only top 25 features\n",
    "from pyspark.ml.regression import LinearRegression\n",
    "\n",
    "# split our data for model building\n",
    "training9, test9 = ChiSqresult.randomSplit([0.6, 0.4], seed=333) \n",
    "\n",
    "# create model - Ridge regression\n",
    "lr_mod10 = LinearRegression(featuresCol = 'selectedFeatures', labelCol = 'days_trending', maxIter = 10, regParam = 0.3, elasticNetParam = 0 )\n",
    "lr10 = lr_mod10.fit(training9)\n",
    "lrPred10 = lr10.transform(test9)\n",
    "\n",
    "#######\n",
    "\n",
    "# Evalueate model\n",
    "from pyspark.ml.evaluation import RegressionEvaluator\n",
    "eval = RegressionEvaluator(labelCol = 'days_trending', predictionCol = 'prediction', metricName = 'rmse')\n",
    "\n",
    "# Mean square\n",
    "mse10 = eval.evaluate(lrPred10, {eval.metricName: 'mse'})\n",
    "print('MSE ridge: %.3f' % mse10)\n",
    "\n",
    "#Adjusted R-Squared\n",
    "eval10 = RegressionEvaluator(labelCol = 'days_trending', predictionCol = 'prediction', metricName = 'r2')\n",
    "print(\"R Squared (R2) = %g\" % eval10.evaluate(lrPred10))"
   ]
  },
  {
   "cell_type": "markdown",
   "metadata": {},
   "source": [
    "Compression Via Chisquared appears to increase the MSE"
   ]
  },
  {
   "cell_type": "markdown",
   "metadata": {},
   "source": [
    "## Random Forest Regression"
   ]
  },
  {
   "cell_type": "markdown",
   "metadata": {},
   "source": [
    "default values\n",
    "\n",
    "RandomForestRegressor(featuresCol='features', labelCol='label', predictionCol='prediction', maxDepth=5, maxBins=32, minInstancesPerNode=1, minInfoGain=0.0, maxMemoryInMB=256, cacheNodeIds=False, checkpointInterval=10, impurity='variance', subsamplingRate=1.0, seed=None, numTrees=20, featureSubsetStrategy='auto', leafCol='', minWeightFractionPerNode=0.0, weightCol=None, bootstrap=True)"
   ]
  },
  {
   "cell_type": "code",
   "execution_count": 79,
   "metadata": {},
   "outputs": [
    {
     "name": "stdout",
     "output_type": "stream",
     "text": [
      "Root Mean Squared Error (RMSE) on test data = 3.10032\n",
      "R Squared (R2) = 0.0532232\n",
      "CPU times: user 267 ms, sys: 121 ms, total: 388 ms\n",
      "Wall time: 1min 58s\n"
     ]
    }
   ],
   "source": [
    "%%time\n",
    "from pyspark.ml.regression import RandomForestRegressor\n",
    "from pyspark.ml.evaluation import RegressionEvaluator\n",
    "\n",
    "rf = RandomForestRegressor(featuresCol = 'features', labelCol = 'days_trending',seed = 333)\n",
    "\n",
    "#Note: Using training 8 for model with tags and ngrams (mod 6.2)\n",
    "# Train and test base model\n",
    "rf1 = rf.fit(training8)\n",
    "rfp1 = rf1.transform(test8)\n",
    "\n",
    "# Evaluate Model\n",
    "evaluator = RegressionEvaluator(labelCol=\"days_trending\", predictionCol=\"prediction\", metricName=\"rmse\")\n",
    "rmse = evaluator.evaluate(rfp1)\n",
    "print(\"Root Mean Squared Error (RMSE) on test data = %g\" % rmse)\n",
    "\n",
    "#Adjusted R-Squared\n",
    "eval10 = RegressionEvaluator(labelCol = 'days_trending', predictionCol = 'prediction', metricName = 'r2')\n",
    "print(\"R Squared (R2) = %g\" % eval10.evaluate(rfp1))"
   ]
  },
  {
   "cell_type": "markdown",
   "metadata": {},
   "source": [
    "## Gradient boosted Tree Regression"
   ]
  },
  {
   "cell_type": "markdown",
   "metadata": {},
   "source": [
    "default values\n",
    "\n",
    "GBTRegressor(featuresCol='features', labelCol='label', predictionCol='prediction', maxDepth=5, maxBins=32, minInstancesPerNode=1, minInfoGain=0.0, maxMemoryInMB=256, cacheNodeIds=False, subsamplingRate=1.0, checkpointInterval=10, lossType='squared', maxIter=20, stepSize=0.1, seed=None, impurity='variance', featureSubsetStrategy='all', validationTol=0.01, validationIndicatorCol=None, leafCol='', minWeightFractionPerNode=0.0, weightCol=None)"
   ]
  },
  {
   "cell_type": "code",
   "execution_count": 80,
   "metadata": {},
   "outputs": [
    {
     "name": "stdout",
     "output_type": "stream",
     "text": [
      "Root Mean Squared Error (RMSE) on test data = 3.18205\n",
      "R Squared (R2) = 0.00265264\n",
      "CPU times: user 2.49 s, sys: 1.3 s, total: 3.79 s\n",
      "Wall time: 7min 56s\n"
     ]
    }
   ],
   "source": [
    "%%time\n",
    "from pyspark.ml.regression import GBTRegressor\n",
    "from pyspark.ml.evaluation import RegressionEvaluator\n",
    "\n",
    "gbt = GBTRegressor(featuresCol = 'features', labelCol = 'days_trending', seed = 333, )\n",
    "\n",
    "# Using train/test 8 \n",
    "# train model/ make predicition on test data\n",
    "gbt1 = gbt.fit(training8)\n",
    "gbtp1 = gbt1.transform(test8)\n",
    "\n",
    "\n",
    "\n",
    "# Evaluate model \n",
    "evaluator = RegressionEvaluator(\n",
    "    labelCol=\"days_trending\", predictionCol=\"prediction\", metricName=\"rmse\")\n",
    "rmse2 = evaluator.evaluate(gbtp1)\n",
    "print(\"Root Mean Squared Error (RMSE) on test data = %g\" % rmse2)\n",
    "\n",
    "# Adjusted R-Squared\n",
    "eval10 = RegressionEvaluator(labelCol = 'days_trending', predictionCol = 'prediction', metricName = 'r2')\n",
    "print(\"R Squared (R2) = %g\" % eval10.evaluate(gbtp1))"
   ]
  }
 ],
 "metadata": {
  "kernelspec": {
   "display_name": "Python 3",
   "language": "python",
   "name": "python3"
  },
  "language_info": {
   "codemirror_mode": {
    "name": "ipython",
    "version": 3
   },
   "file_extension": ".py",
   "mimetype": "text/x-python",
   "name": "python",
   "nbconvert_exporter": "python",
   "pygments_lexer": "ipython3",
   "version": "3.7.3"
  }
 },
 "nbformat": 4,
 "nbformat_minor": 4
}
